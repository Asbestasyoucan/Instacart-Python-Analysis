{
 "cells": [
  {
   "cell_type": "markdown",
   "id": "1f361ca2",
   "metadata": {},
   "source": [
    "# 01 Import Libraries"
   ]
  },
  {
   "cell_type": "code",
   "execution_count": null,
   "id": "43633a92",
   "metadata": {},
   "outputs": [],
   "source": [
    "import pandas as pd\n",
    "import numpy as np\n",
    "import os\n",
    "import matplotlib.pyplot as plt\n",
    "import seaborn as sns\n",
    "import scipy"
   ]
  },
  {
   "cell_type": "markdown",
   "id": "0bf34a1a",
   "metadata": {},
   "source": [
    "# 02 Import Data"
   ]
  },
  {
   "cell_type": "code",
   "execution_count": null,
   "id": "5a89df0a",
   "metadata": {},
   "outputs": [],
   "source": [
    "# Set path\n",
    "path = r'C:\\Users\\Marce\\careerfoundry\\Instacart Basket Analysis'"
   ]
  },
  {
   "cell_type": "code",
   "execution_count": null,
   "id": "0d8492b9",
   "metadata": {},
   "outputs": [],
   "source": [
    "# Import dataframe from csv\n",
    "cust_all = pd.read_csv(os.path.join(path, '02 Data', 'Original Data', 'customers.csv'))"
   ]
  },
  {
   "cell_type": "code",
   "execution_count": null,
   "id": "40e9915a",
   "metadata": {},
   "outputs": [],
   "source": [
    "# Import dataframe from pickle\n",
    "ords_prods_new = pd.read_pickle(os.path.join(path, '02 Data', 'Prepared Data', 'ords_prods_flags.pkl'))"
   ]
  },
  {
   "cell_type": "code",
   "execution_count": null,
   "id": "ed4c56f7",
   "metadata": {},
   "outputs": [],
   "source": [
    "cust_all"
   ]
  },
  {
   "cell_type": "code",
   "execution_count": null,
   "id": "ee5e5e2f",
   "metadata": {},
   "outputs": [],
   "source": [
    "cust_all.rename(columns = {\"Surnam\":\"Surname\"}, inplace=True)"
   ]
  },
  {
   "cell_type": "code",
   "execution_count": null,
   "id": "1e83fd76",
   "metadata": {},
   "outputs": [],
   "source": [
    "cust_all"
   ]
  },
  {
   "cell_type": "code",
   "execution_count": null,
   "id": "72e7baf2",
   "metadata": {},
   "outputs": [],
   "source": [
    "cust_all.rename(columns = {\"STATE\":\"State\"}, inplace=True)"
   ]
  },
  {
   "cell_type": "code",
   "execution_count": null,
   "id": "ec0929ca",
   "metadata": {},
   "outputs": [],
   "source": [
    "cust_all"
   ]
  },
  {
   "cell_type": "code",
   "execution_count": null,
   "id": "038ce477",
   "metadata": {},
   "outputs": [],
   "source": [
    "cust_all.rename(columns = {\"n_dependants\":\"Dependants\"}, inplace=True)"
   ]
  },
  {
   "cell_type": "code",
   "execution_count": null,
   "id": "6a1a3263",
   "metadata": {},
   "outputs": [],
   "source": [
    "cust_all.rename(columns = {\"date_joined\":\"Join date\"}, inplace=True)"
   ]
  },
  {
   "cell_type": "code",
   "execution_count": null,
   "id": "92c51440",
   "metadata": {},
   "outputs": [],
   "source": [
    "cust_all"
   ]
  },
  {
   "cell_type": "code",
   "execution_count": null,
   "id": "14b7526c",
   "metadata": {},
   "outputs": [],
   "source": [
    "cust_all.rename(columns = {\"income\":\"Income\"}, inplace=True)"
   ]
  },
  {
   "cell_type": "code",
   "execution_count": null,
   "id": "3c08a809",
   "metadata": {},
   "outputs": [],
   "source": [
    "cust_all"
   ]
  },
  {
   "cell_type": "markdown",
   "id": "68113f02",
   "metadata": {},
   "source": [
    "cust_all = cust_all.drop(columns = [\"\"])\n",
    "\n",
    "## Not sure which columns could be dropped -> avoiding to lose data"
   ]
  },
  {
   "cell_type": "code",
   "execution_count": null,
   "id": "52a1644e",
   "metadata": {},
   "outputs": [],
   "source": [
    "for col in cust_all.columns.tolist():\n",
    "  weird = (cust_all[[col]].applymap(type) != cust_all[[col]].iloc[0].apply(type)).any(axis = 1)\n",
    "  if len (cust_all[weird]) > 0:\n",
    "    print (col)"
   ]
  },
  {
   "cell_type": "code",
   "execution_count": null,
   "id": "c42c9fa8",
   "metadata": {},
   "outputs": [],
   "source": [
    "cust_all['First Name'] = cust_all['First Name'].astype('str')"
   ]
  },
  {
   "cell_type": "code",
   "execution_count": null,
   "id": "1f8176a7",
   "metadata": {},
   "outputs": [],
   "source": [
    "for col in cust_all.columns.tolist():\n",
    "  weird = (cust_all[[col]].applymap(type) != cust_all[[col]].iloc[0].apply(type)).any(axis = 1)\n",
    "  if len (cust_all[weird]) > 0:\n",
    "    print (col)"
   ]
  },
  {
   "cell_type": "code",
   "execution_count": null,
   "id": "4ba93d89",
   "metadata": {},
   "outputs": [],
   "source": [
    "cust_all.isnull().sum()"
   ]
  },
  {
   "cell_type": "code",
   "execution_count": null,
   "id": "694ccd29",
   "metadata": {},
   "outputs": [],
   "source": [
    "cust_all_dups = cust_all[cust_all.duplicated()]"
   ]
  },
  {
   "cell_type": "code",
   "execution_count": null,
   "id": "08a20e18",
   "metadata": {},
   "outputs": [],
   "source": [
    "cust_all_dups"
   ]
  },
  {
   "cell_type": "code",
   "execution_count": null,
   "id": "f74551e8",
   "metadata": {},
   "outputs": [],
   "source": [
    "ords_prods_new.head()"
   ]
  },
  {
   "cell_type": "code",
   "execution_count": null,
   "id": "4419f508",
   "metadata": {},
   "outputs": [],
   "source": [
    "pd.set_option('display.max_columns', None)"
   ]
  },
  {
   "cell_type": "code",
   "execution_count": null,
   "id": "fff5ed93",
   "metadata": {},
   "outputs": [],
   "source": [
    "ords_prods_new.head(1)"
   ]
  },
  {
   "cell_type": "code",
   "execution_count": null,
   "id": "760a179a",
   "metadata": {},
   "outputs": [],
   "source": [
    "cust_all.head(1)"
   ]
  },
  {
   "cell_type": "code",
   "execution_count": null,
   "id": "cd46d02e",
   "metadata": {},
   "outputs": [],
   "source": [
    "ords_prods_new.shape"
   ]
  },
  {
   "cell_type": "code",
   "execution_count": null,
   "id": "506af146",
   "metadata": {},
   "outputs": [],
   "source": [
    "cust_all.shape"
   ]
  },
  {
   "cell_type": "code",
   "execution_count": null,
   "id": "20986d92",
   "metadata": {},
   "outputs": [],
   "source": [
    "df_merged = ords_prods_new.merge(cust_all, on = 'user_id')"
   ]
  },
  {
   "cell_type": "code",
   "execution_count": null,
   "id": "1de5662d",
   "metadata": {},
   "outputs": [],
   "source": [
    "df_merged.shape"
   ]
  },
  {
   "cell_type": "code",
   "execution_count": null,
   "id": "68ce5d96",
   "metadata": {},
   "outputs": [],
   "source": [
    "df_merged.head(20)"
   ]
  },
  {
   "cell_type": "code",
   "execution_count": null,
   "id": "14202a6c",
   "metadata": {},
   "outputs": [],
   "source": [
    "df_merged['_merge'].value_counts(dropna = False)"
   ]
  },
  {
   "cell_type": "markdown",
   "id": "6f2254a4",
   "metadata": {},
   "source": [
    "# Export merged dataframe"
   ]
  },
  {
   "cell_type": "code",
   "execution_count": null,
   "id": "8a5a6681",
   "metadata": {},
   "outputs": [],
   "source": [
    "df_merged.to_pickle(os.path.join(path,'02 Data', 'Prepared Data', 'allinone.pkl'))"
   ]
  }
 ],
 "metadata": {
  "kernelspec": {
   "display_name": "Python 3",
   "language": "python",
   "name": "python3"
  },
  "language_info": {
   "codemirror_mode": {
    "name": "ipython",
    "version": 3
   },
   "file_extension": ".py",
   "mimetype": "text/x-python",
   "name": "python",
   "nbconvert_exporter": "python",
   "pygments_lexer": "ipython3",
   "version": "3.8.8"
  }
 },
 "nbformat": 4,
 "nbformat_minor": 5
}
