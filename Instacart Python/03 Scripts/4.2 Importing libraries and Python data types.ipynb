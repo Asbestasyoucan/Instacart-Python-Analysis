{
 "cells": [
  {
   "cell_type": "markdown",
   "id": "fe355b88",
   "metadata": {},
   "source": [
    "# 01. Importing Libraries"
   ]
  },
  {
   "cell_type": "code",
   "execution_count": 1,
   "id": "9524bce0",
   "metadata": {},
   "outputs": [],
   "source": [
    "# Import Libraries"
   ]
  },
  {
   "cell_type": "code",
   "execution_count": 2,
   "id": "75ca7e4c",
   "metadata": {},
   "outputs": [],
   "source": [
    "import pandas as pd\n",
    "import numpy as np\n",
    "import os"
   ]
  },
  {
   "cell_type": "markdown",
   "id": "69c9d25e",
   "metadata": {},
   "source": [
    "# 02. Data Types"
   ]
  },
  {
   "cell_type": "code",
   "execution_count": 3,
   "id": "4739c298",
   "metadata": {},
   "outputs": [],
   "source": [
    "x=100\n",
    "y=99\n",
    "z=1"
   ]
  },
  {
   "cell_type": "code",
   "execution_count": 4,
   "id": "16ca40cf",
   "metadata": {},
   "outputs": [
    {
     "data": {
      "text/plain": [
       "100"
      ]
     },
     "execution_count": 4,
     "metadata": {},
     "output_type": "execute_result"
    }
   ],
   "source": [
    "x+0"
   ]
  },
  {
   "cell_type": "code",
   "execution_count": 5,
   "id": "f3082626",
   "metadata": {},
   "outputs": [
    {
     "data": {
      "text/plain": [
       "100"
      ]
     },
     "execution_count": 5,
     "metadata": {},
     "output_type": "execute_result"
    }
   ],
   "source": [
    "y+1"
   ]
  },
  {
   "cell_type": "code",
   "execution_count": 6,
   "id": "f81ee747",
   "metadata": {},
   "outputs": [
    {
     "data": {
      "text/plain": [
       "100"
      ]
     },
     "execution_count": 6,
     "metadata": {},
     "output_type": "execute_result"
    }
   ],
   "source": [
    "z+99"
   ]
  },
  {
   "cell_type": "code",
   "execution_count": 7,
   "id": "18fd6039",
   "metadata": {},
   "outputs": [],
   "source": [
    "v=2.1\n",
    "w=0.3"
   ]
  },
  {
   "cell_type": "code",
   "execution_count": 8,
   "id": "8ea83823",
   "metadata": {},
   "outputs": [
    {
     "data": {
      "text/plain": [
       "7.000000000000001"
      ]
     },
     "execution_count": 8,
     "metadata": {},
     "output_type": "execute_result"
    }
   ],
   "source": [
    "v/w"
   ]
  },
  {
   "cell_type": "code",
   "execution_count": 9,
   "id": "8a8a55a5",
   "metadata": {},
   "outputs": [],
   "source": [
    "t='potato '\n",
    "u='cannon'"
   ]
  },
  {
   "cell_type": "code",
   "execution_count": 10,
   "id": "dc906cb2",
   "metadata": {},
   "outputs": [
    {
     "data": {
      "text/plain": [
       "'potato cannon'"
      ]
     },
     "execution_count": 10,
     "metadata": {},
     "output_type": "execute_result"
    }
   ],
   "source": [
    "t+u"
   ]
  },
  {
   "cell_type": "code",
   "execution_count": 11,
   "id": "7217e2b8",
   "metadata": {},
   "outputs": [],
   "source": [
    "a=' is'\n",
    "b=' the'\n",
    "c=' best'"
   ]
  },
  {
   "cell_type": "code",
   "execution_count": 12,
   "id": "abe48c7c",
   "metadata": {},
   "outputs": [
    {
     "data": {
      "text/plain": [
       "'potato cannon is the best'"
      ]
     },
     "execution_count": 12,
     "metadata": {},
     "output_type": "execute_result"
    }
   ],
   "source": [
    "t+u+a+b+c"
   ]
  },
  {
   "cell_type": "code",
   "execution_count": 13,
   "id": "81ce88c6",
   "metadata": {},
   "outputs": [
    {
     "data": {
      "text/plain": [
       "'potato cannon the best is'"
      ]
     },
     "execution_count": 13,
     "metadata": {},
     "output_type": "execute_result"
    }
   ],
   "source": [
    "t+u+b+c+a"
   ]
  },
  {
   "cell_type": "code",
   "execution_count": 14,
   "id": "2258521d",
   "metadata": {},
   "outputs": [
    {
     "data": {
      "text/plain": [
       "' is is is is is is is is is is is is is is is is is is is is is is is is is is is is is is is is is is is is is is is is is is is is is is is is is is is is is is is is is is is is is is is is is is is is is is is is is is is is is is is is is is is is is is is is is is is is is is is is is is is is'"
      ]
     },
     "execution_count": 14,
     "metadata": {},
     "output_type": "execute_result"
    }
   ],
   "source": [
    "a*100"
   ]
  },
  {
   "cell_type": "code",
   "execution_count": null,
   "id": "3acb9a00",
   "metadata": {},
   "outputs": [],
   "source": []
  }
 ],
 "metadata": {
  "kernelspec": {
   "display_name": "Python 3",
   "language": "python",
   "name": "python3"
  },
  "language_info": {
   "codemirror_mode": {
    "name": "ipython",
    "version": 3
   },
   "file_extension": ".py",
   "mimetype": "text/x-python",
   "name": "python",
   "nbconvert_exporter": "python",
   "pygments_lexer": "ipython3",
   "version": "3.8.8"
  }
 },
 "nbformat": 4,
 "nbformat_minor": 5
}
