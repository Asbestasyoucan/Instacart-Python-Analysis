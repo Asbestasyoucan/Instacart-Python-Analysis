{
 "cells": [
  {
   "cell_type": "markdown",
   "id": "caea4a83",
   "metadata": {},
   "source": [
    "# 01 Importing Libraries"
   ]
  },
  {
   "cell_type": "code",
   "execution_count": null,
   "id": "8ac6d289",
   "metadata": {},
   "outputs": [],
   "source": [
    "# Import libraries\n",
    "\n",
    "import pandas as pd\n",
    "import numpy as np\n",
    "import os"
   ]
  },
  {
   "cell_type": "markdown",
   "id": "926d93b2",
   "metadata": {},
   "source": [
    "# 02 Importing Data"
   ]
  },
  {
   "cell_type": "code",
   "execution_count": null,
   "id": "cdfcbfb1",
   "metadata": {},
   "outputs": [],
   "source": [
    "# Set path\n",
    "path = r'C:\\Users\\Marce\\careerfoundry\\Instacart Basket Analysis'"
   ]
  },
  {
   "cell_type": "code",
   "execution_count": null,
   "id": "6ae7dae6",
   "metadata": {},
   "outputs": [],
   "source": [
    "# Import ords_prods_merged\n",
    "df_ords_prods_merged = pd.read_pickle(os.path.join(path, '02 Data', 'Prepared Data', 'orders_products_merged.pkl'))"
   ]
  },
  {
   "cell_type": "code",
   "execution_count": null,
   "id": "d7dd5820",
   "metadata": {},
   "outputs": [],
   "source": [
    "df = df_ords_prods_merged[:1000000]"
   ]
  },
  {
   "cell_type": "code",
   "execution_count": null,
   "id": "01f8547d",
   "metadata": {},
   "outputs": [],
   "source": [
    "# Define function\n",
    "\n",
    "def price_label(row):\n",
    "\n",
    "  if row['prices'] <= 5:\n",
    "    return 'Low-range product'\n",
    "  elif (row['prices'] > 5) and (row['prices'] <= 15):\n",
    "    return 'Mid-range product'\n",
    "  elif row['prices'] > 15:\n",
    "    return 'High range'\n",
    "  else: return 'Not enough data'"
   ]
  },
  {
   "cell_type": "code",
   "execution_count": null,
   "id": "155616b7",
   "metadata": {
    "scrolled": true
   },
   "outputs": [],
   "source": [
    "# Apply function\n",
    "df['price_range'] = df.apply(price_label, axis=1)"
   ]
  },
  {
   "cell_type": "code",
   "execution_count": null,
   "id": "9e1f2a3e",
   "metadata": {},
   "outputs": [],
   "source": [
    "df['price_range'].value_counts(dropna = False)"
   ]
  },
  {
   "cell_type": "code",
   "execution_count": null,
   "id": "6e70e68f",
   "metadata": {},
   "outputs": [],
   "source": [
    "df.loc[df['prices'] > 15, 'price_range_loc'] = 'High-range product'"
   ]
  },
  {
   "cell_type": "code",
   "execution_count": null,
   "id": "f161b0d2",
   "metadata": {},
   "outputs": [],
   "source": [
    "df.loc[(df['prices'] <= 15) & (df['prices'] > 5), 'price_range_loc'] = 'Mid-range product' "
   ]
  },
  {
   "cell_type": "code",
   "execution_count": null,
   "id": "60a37edd",
   "metadata": {},
   "outputs": [],
   "source": [
    "df.loc[df['prices'] <= 5, 'price_range_loc'] = 'Low-range product'"
   ]
  },
  {
   "cell_type": "code",
   "execution_count": null,
   "id": "b8073fd3",
   "metadata": {},
   "outputs": [],
   "source": [
    "df['price_range_loc'].value_counts(dropna = False)"
   ]
  },
  {
   "cell_type": "code",
   "execution_count": null,
   "id": "d52d7354",
   "metadata": {},
   "outputs": [],
   "source": [
    "df_ords_prods_merged.loc[df_ords_prods_merged['prices'] > 15, 'price_range_loc'] = 'High-range product'"
   ]
  },
  {
   "cell_type": "code",
   "execution_count": null,
   "id": "1de47778",
   "metadata": {},
   "outputs": [],
   "source": [
    "df_ords_prods_merged.loc[(df_ords_prods_merged['prices'] <= 15) & (df_ords_prods_merged['prices'] > 5), 'price_range_loc'] = 'Mid-range product'"
   ]
  },
  {
   "cell_type": "code",
   "execution_count": null,
   "id": "6483480f",
   "metadata": {},
   "outputs": [],
   "source": [
    "df_ords_prods_merged.loc[df_ords_prods_merged['prices'] <= 5, 'price_range_loc'] = 'Low-range product'"
   ]
  },
  {
   "cell_type": "code",
   "execution_count": null,
   "id": "04ccf8c8",
   "metadata": {},
   "outputs": [],
   "source": [
    "df_ords_prods_merged['price_range_loc'].value_counts(dropna = False)"
   ]
  },
  {
   "cell_type": "code",
   "execution_count": null,
   "id": "60235107",
   "metadata": {},
   "outputs": [],
   "source": [
    "df_ords_prods_merged['order_dow'].value_counts(dropna = False)"
   ]
  },
  {
   "cell_type": "code",
   "execution_count": null,
   "id": "9c91072f",
   "metadata": {},
   "outputs": [],
   "source": [
    "result=[]\n",
    "\n",
    "for value in df_ords_prods_merged[\"order_dow\"]:\n",
    "  if value == 0:\n",
    "    result.append(\"Busiest day\")\n",
    "  elif value == 4:\n",
    "    result.append(\"Least busy\")\n",
    "  else:\n",
    "    result.append(\"Regularly busy\")"
   ]
  },
  {
   "cell_type": "code",
   "execution_count": null,
   "id": "5993701a",
   "metadata": {},
   "outputs": [],
   "source": [
    "result"
   ]
  },
  {
   "cell_type": "code",
   "execution_count": null,
   "id": "468ff277",
   "metadata": {},
   "outputs": [],
   "source": [
    "df_ords_prods_merged['busiest day'] = result"
   ]
  },
  {
   "cell_type": "code",
   "execution_count": null,
   "id": "b6c6d870",
   "metadata": {},
   "outputs": [],
   "source": [
    "df_ords_prods_merged['busiest day'].value_counts(dropna = False) "
   ]
  },
  {
   "cell_type": "code",
   "execution_count": null,
   "id": "0c3f7982",
   "metadata": {},
   "outputs": [],
   "source": [
    "print (df_ords_prods_merged['busiest day'])"
   ]
  },
  {
   "cell_type": "code",
   "execution_count": null,
   "id": "43cc24d1",
   "metadata": {},
   "outputs": [],
   "source": [
    "print (df_ords_prods_merged['order_dow'])"
   ]
  },
  {
   "cell_type": "code",
   "execution_count": null,
   "id": "bbe0959c",
   "metadata": {},
   "outputs": [],
   "source": [
    "result=[]\n",
    "\n",
    "for value in df_ords_prods_merged[\"order_dow\"]:\n",
    "  if value == 0 or value == 1:\n",
    "    result.append(\"Busiest days\")\n",
    "  elif value == 3 or value == 4:\n",
    "    result.append(\"Slowest days\")\n",
    "  else:\n",
    "    result.append(\"Regular days\")"
   ]
  },
  {
   "cell_type": "code",
   "execution_count": null,
   "id": "4be6e037",
   "metadata": {},
   "outputs": [],
   "source": [
    "df_ords_prods_merged['busiest/slowest days'] = result"
   ]
  },
  {
   "cell_type": "code",
   "execution_count": null,
   "id": "4c52e5fe",
   "metadata": {},
   "outputs": [],
   "source": [
    "df_ords_prods_merged['busiest/slowest days'].value_counts(dropna = False)"
   ]
  },
  {
   "cell_type": "code",
   "execution_count": null,
   "id": "0c7f364f",
   "metadata": {},
   "outputs": [],
   "source": [
    "print (df_ords_prods_merged['busiest/slowest days'])"
   ]
  },
  {
   "cell_type": "markdown",
   "id": "f9468b2d",
   "metadata": {},
   "source": [
    "#### No special observations found...help?"
   ]
  },
  {
   "cell_type": "code",
   "execution_count": null,
   "id": "77a0058e",
   "metadata": {},
   "outputs": [],
   "source": [
    "df_ords_prods_merged.columns"
   ]
  },
  {
   "cell_type": "code",
   "execution_count": null,
   "id": "ca0f5860",
   "metadata": {},
   "outputs": [],
   "source": [
    "df_ords_prods_merged['order_hour_of_day'].value_counts(dropna = False)"
   ]
  },
  {
   "cell_type": "code",
   "execution_count": null,
   "id": "7fdb6190",
   "metadata": {},
   "outputs": [],
   "source": [
    "result=[]\n",
    "\n",
    "for value in df_ords_prods_merged[\"order_hour_of_day\"]:\n",
    "  if value in range(9,17) :\n",
    "    result.append(\"Most orders\")\n",
    "  elif value in range(0,7) or value == 23:\n",
    "    result.append(\"Fewest orders\")\n",
    "  elif value in range(17,23) or value==7 or value==8:\n",
    "    result.append(\"Average orders\")"
   ]
  },
  {
   "cell_type": "code",
   "execution_count": null,
   "id": "b6ecaf7b",
   "metadata": {},
   "outputs": [],
   "source": [
    "df_ords_prods_merged['busiest_period_of_day'] = result"
   ]
  },
  {
   "cell_type": "code",
   "execution_count": null,
   "id": "133fa460",
   "metadata": {},
   "outputs": [],
   "source": [
    "df_ords_prods_merged['busiest_period_of_day'].value_counts(dropna = False)"
   ]
  },
  {
   "cell_type": "markdown",
   "id": "98e8ce48",
   "metadata": {},
   "source": [
    "# Export Dataframe as pickle format"
   ]
  },
  {
   "cell_type": "code",
   "execution_count": null,
   "id": "ef949963",
   "metadata": {},
   "outputs": [],
   "source": [
    "df_ords_prods_merged.to_pickle(os.path.join(path,'02 Data', 'Prepared Data', 'ords_prods_busy.pkl' ))"
   ]
  },
  {
   "cell_type": "code",
   "execution_count": null,
   "id": "6da25d65",
   "metadata": {},
   "outputs": [],
   "source": []
  }
 ],
 "metadata": {
  "kernelspec": {
   "display_name": "Python 3",
   "language": "python",
   "name": "python3"
  },
  "language_info": {
   "codemirror_mode": {
    "name": "ipython",
    "version": 3
   },
   "file_extension": ".py",
   "mimetype": "text/x-python",
   "name": "python",
   "nbconvert_exporter": "python",
   "pygments_lexer": "ipython3",
   "version": "3.8.8"
  }
 },
 "nbformat": 4,
 "nbformat_minor": 5
}
