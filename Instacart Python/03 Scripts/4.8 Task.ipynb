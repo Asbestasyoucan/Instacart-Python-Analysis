{
 "cells": [
  {
   "cell_type": "markdown",
   "id": "ac2c4085",
   "metadata": {},
   "source": [
    "# 01 Importing Libraries"
   ]
  },
  {
   "cell_type": "code",
   "execution_count": 1,
   "id": "1d2a4bb5",
   "metadata": {},
   "outputs": [],
   "source": [
    "# Import libraries\n",
    "\n",
    "import pandas as pd\n",
    "import numpy as np\n",
    "import os"
   ]
  },
  {
   "cell_type": "markdown",
   "id": "fb04f107",
   "metadata": {},
   "source": [
    "# 02 Importing Data"
   ]
  },
  {
   "cell_type": "code",
   "execution_count": 2,
   "id": "3c21bebe",
   "metadata": {},
   "outputs": [],
   "source": [
    "# Set path\n",
    "path = r'C:\\Users\\Marce\\careerfoundry\\Instacart Basket Analysis'"
   ]
  },
  {
   "cell_type": "code",
   "execution_count": 3,
   "id": "9716d9d7",
   "metadata": {},
   "outputs": [],
   "source": [
    "# Import ords_prods_merged\n",
    "ords_prods_merge = pd.read_pickle(os.path.join(path, '02 Data', 'Prepared Data', 'ords_prods_newcolumns.pkl'))"
   ]
  },
  {
   "cell_type": "code",
   "execution_count": 4,
   "id": "61d4dcad",
   "metadata": {},
   "outputs": [
    {
     "data": {
      "text/plain": [
       "department_id\n",
       "1     15.457838\n",
       "2     17.277920\n",
       "3     17.170395\n",
       "4     17.811403\n",
       "5     15.215751\n",
       "6     16.439806\n",
       "7     17.225802\n",
       "8     15.340650\n",
       "9     15.895474\n",
       "10    20.197148\n",
       "11    16.170638\n",
       "12    15.887671\n",
       "13    16.583536\n",
       "14    16.773669\n",
       "15    16.165037\n",
       "16    17.665606\n",
       "17    15.694469\n",
       "18    19.310397\n",
       "19    17.177343\n",
       "20    16.473447\n",
       "21    22.902379\n",
       "Name: order_number, dtype: float64"
      ]
     },
     "execution_count": 4,
     "metadata": {},
     "output_type": "execute_result"
    }
   ],
   "source": [
    "ords_prods_merge.groupby('department_id')['order_number'].mean()"
   ]
  },
  {
   "cell_type": "markdown",
   "id": "55482df6",
   "metadata": {},
   "source": [
    "#### The difference between the whole dataframe and the subset is a more accurate mean and now we have all department_id."
   ]
  },
  {
   "cell_type": "code",
   "execution_count": 5,
   "id": "47e62788",
   "metadata": {},
   "outputs": [],
   "source": [
    "ords_prods_merge[\"max_order\"] = ords_prods_merge.groupby([\"user_id\"])[\"order_number\"].transform(np.max)"
   ]
  },
  {
   "cell_type": "code",
   "execution_count": 6,
   "id": "e48f6c38",
   "metadata": {},
   "outputs": [],
   "source": [
    "ords_prods_merge.loc[ords_prods_merge['max_order'] > 40, 'loyalty_flag'] = 'Loyal customer'"
   ]
  },
  {
   "cell_type": "code",
   "execution_count": 7,
   "id": "de1e3784",
   "metadata": {},
   "outputs": [],
   "source": [
    "ords_prods_merge.loc[(ords_prods_merge['max_order'] <= 40) & (ords_prods_merge['max_order'] > 10), 'loyalty_flag'] = 'Regular customer'"
   ]
  },
  {
   "cell_type": "code",
   "execution_count": 8,
   "id": "9f1f2fc8",
   "metadata": {},
   "outputs": [],
   "source": [
    "ords_prods_merge.loc[ords_prods_merge['max_order'] <= 10, 'loyalty_flag'] = 'New customer'"
   ]
  },
  {
   "cell_type": "code",
   "execution_count": 9,
   "id": "2c31fd22",
   "metadata": {},
   "outputs": [
    {
     "data": {
      "text/html": [
       "<div>\n",
       "<style scoped>\n",
       "    .dataframe tbody tr th:only-of-type {\n",
       "        vertical-align: middle;\n",
       "    }\n",
       "\n",
       "    .dataframe tbody tr th {\n",
       "        vertical-align: top;\n",
       "    }\n",
       "\n",
       "    .dataframe thead tr th {\n",
       "        text-align: left;\n",
       "    }\n",
       "\n",
       "    .dataframe thead tr:last-of-type th {\n",
       "        text-align: right;\n",
       "    }\n",
       "</style>\n",
       "<table border=\"1\" class=\"dataframe\">\n",
       "  <thead>\n",
       "    <tr>\n",
       "      <th></th>\n",
       "      <th colspan=\"5\" halign=\"left\">prices</th>\n",
       "    </tr>\n",
       "    <tr>\n",
       "      <th></th>\n",
       "      <th>mean</th>\n",
       "      <th>std</th>\n",
       "      <th>count</th>\n",
       "      <th>mad</th>\n",
       "      <th>var</th>\n",
       "    </tr>\n",
       "    <tr>\n",
       "      <th>loyalty_flag</th>\n",
       "      <th></th>\n",
       "      <th></th>\n",
       "      <th></th>\n",
       "      <th></th>\n",
       "      <th></th>\n",
       "    </tr>\n",
       "  </thead>\n",
       "  <tbody>\n",
       "    <tr>\n",
       "      <th>Loyal customer</th>\n",
       "      <td>10.386336</td>\n",
       "      <td>328.017787</td>\n",
       "      <td>10284093</td>\n",
       "      <td>6.766253</td>\n",
       "      <td>107595.668605</td>\n",
       "    </tr>\n",
       "    <tr>\n",
       "      <th>New customer</th>\n",
       "      <td>13.294670</td>\n",
       "      <td>597.560299</td>\n",
       "      <td>6243990</td>\n",
       "      <td>11.357610</td>\n",
       "      <td>357078.310697</td>\n",
       "    </tr>\n",
       "    <tr>\n",
       "      <th>Regular customer</th>\n",
       "      <td>12.495717</td>\n",
       "      <td>539.720919</td>\n",
       "      <td>15876776</td>\n",
       "      <td>9.988657</td>\n",
       "      <td>291298.670015</td>\n",
       "    </tr>\n",
       "  </tbody>\n",
       "</table>\n",
       "</div>"
      ],
      "text/plain": [
       "                     prices                                                \n",
       "                       mean         std     count        mad            var\n",
       "loyalty_flag                                                               \n",
       "Loyal customer    10.386336  328.017787  10284093   6.766253  107595.668605\n",
       "New customer      13.294670  597.560299   6243990  11.357610  357078.310697\n",
       "Regular customer  12.495717  539.720919  15876776   9.988657  291298.670015"
      ]
     },
     "execution_count": 9,
     "metadata": {},
     "output_type": "execute_result"
    }
   ],
   "source": [
    "ords_prods_merge.groupby(\"loyalty_flag\").agg({\"prices\":[\"mean\",\"std\",\"count\",\"mad\",\"var\"]})"
   ]
  },
  {
   "cell_type": "markdown",
   "id": "a0763c67",
   "metadata": {},
   "source": [
    "#### Excluded min,max,median -> not meaningful /// don't know at this point how meaningful mad,var are but still included"
   ]
  },
  {
   "cell_type": "code",
   "execution_count": 10,
   "id": "992d5a01",
   "metadata": {},
   "outputs": [],
   "source": [
    "ords_prods_merge['mean_prices'] = ords_prods_merge.groupby(['user_id'])['prices'].transform(np.mean)"
   ]
  },
  {
   "cell_type": "code",
   "execution_count": 11,
   "id": "b41b0f74",
   "metadata": {},
   "outputs": [],
   "source": [
    "ords_prods_merge.loc[ords_prods_merge[\"mean_prices\"] >= 10, \"spending_flag\"] = \"High spender\""
   ]
  },
  {
   "cell_type": "code",
   "execution_count": 12,
   "id": "793d5daa",
   "metadata": {},
   "outputs": [],
   "source": [
    "ords_prods_merge.loc[ords_prods_merge[\"mean_prices\"] < 10, \"spending_flag\"] = \"Low spender\""
   ]
  },
  {
   "cell_type": "code",
   "execution_count": 13,
   "id": "1e8b8086",
   "metadata": {},
   "outputs": [
    {
     "data": {
      "text/plain": [
       "Low spender     31770742\n",
       "High spender      634117\n",
       "Name: spending_flag, dtype: int64"
      ]
     },
     "execution_count": 13,
     "metadata": {},
     "output_type": "execute_result"
    }
   ],
   "source": [
    "ords_prods_merge[\"spending_flag\"].value_counts(dropna = False)"
   ]
  },
  {
   "cell_type": "code",
   "execution_count": 14,
   "id": "34ae75db",
   "metadata": {},
   "outputs": [
    {
     "data": {
      "text/plain": [
       "0      Low spender\n",
       "1      Low spender\n",
       "2      Low spender\n",
       "3      Low spender\n",
       "4      Low spender\n",
       "          ...     \n",
       "95    High spender\n",
       "96     Low spender\n",
       "97     Low spender\n",
       "98     Low spender\n",
       "99     Low spender\n",
       "Name: spending_flag, Length: 100, dtype: object"
      ]
     },
     "execution_count": 14,
     "metadata": {},
     "output_type": "execute_result"
    }
   ],
   "source": [
    "ords_prods_merge[\"spending_flag\"].head(100)"
   ]
  },
  {
   "cell_type": "code",
   "execution_count": 15,
   "id": "06c9c768",
   "metadata": {},
   "outputs": [],
   "source": [
    "ords_prods_merge['median_days'] = ords_prods_merge.groupby(['user_id'])['days_since_prior_order'].transform(np.median)"
   ]
  },
  {
   "cell_type": "code",
   "execution_count": 16,
   "id": "818830c1",
   "metadata": {},
   "outputs": [],
   "source": [
    "ords_prods_merge.loc[ords_prods_merge[\"median_days\"] > 20, \"freq_cust\"] = \"Non-frequent customer\""
   ]
  },
  {
   "cell_type": "code",
   "execution_count": 17,
   "id": "38b9b874",
   "metadata": {},
   "outputs": [],
   "source": [
    "ords_prods_merge.loc[(ords_prods_merge[\"median_days\"] <= 20) & (ords_prods_merge[\"median_days\"] > 10), \"freq_cust\"] = \"Regular customer\""
   ]
  },
  {
   "cell_type": "code",
   "execution_count": 18,
   "id": "ed9d4212",
   "metadata": {},
   "outputs": [],
   "source": [
    "ords_prods_merge.loc[ords_prods_merge[\"median_days\"] <= 10, \"freq_cust\"] = \"Frequent customer\""
   ]
  },
  {
   "cell_type": "code",
   "execution_count": 19,
   "id": "49fa389d",
   "metadata": {},
   "outputs": [
    {
     "data": {
      "text/plain": [
       "0     Non-frequent customer\n",
       "1     Non-frequent customer\n",
       "2     Non-frequent customer\n",
       "3     Non-frequent customer\n",
       "4     Non-frequent customer\n",
       "5     Non-frequent customer\n",
       "6     Non-frequent customer\n",
       "7     Non-frequent customer\n",
       "8     Non-frequent customer\n",
       "9     Non-frequent customer\n",
       "10        Frequent customer\n",
       "11        Frequent customer\n",
       "12        Frequent customer\n",
       "13        Frequent customer\n",
       "14        Frequent customer\n",
       "15        Frequent customer\n",
       "16        Frequent customer\n",
       "17        Frequent customer\n",
       "18        Frequent customer\n",
       "19        Frequent customer\n",
       "20        Frequent customer\n",
       "21        Frequent customer\n",
       "22        Frequent customer\n",
       "23        Frequent customer\n",
       "24        Frequent customer\n",
       "25        Frequent customer\n",
       "26        Frequent customer\n",
       "27        Frequent customer\n",
       "28        Frequent customer\n",
       "29        Frequent customer\n",
       "30        Frequent customer\n",
       "31        Frequent customer\n",
       "32        Frequent customer\n",
       "33        Frequent customer\n",
       "34        Frequent customer\n",
       "35        Frequent customer\n",
       "36        Frequent customer\n",
       "37        Frequent customer\n",
       "38        Frequent customer\n",
       "39        Frequent customer\n",
       "40        Frequent customer\n",
       "41        Frequent customer\n",
       "42        Frequent customer\n",
       "43        Frequent customer\n",
       "44        Frequent customer\n",
       "45        Frequent customer\n",
       "46        Frequent customer\n",
       "47        Frequent customer\n",
       "48        Frequent customer\n",
       "49        Frequent customer\n",
       "50        Frequent customer\n",
       "51        Frequent customer\n",
       "52        Frequent customer\n",
       "53        Frequent customer\n",
       "54        Frequent customer\n",
       "55        Frequent customer\n",
       "56    Non-frequent customer\n",
       "57    Non-frequent customer\n",
       "58         Regular customer\n",
       "59         Regular customer\n",
       "Name: freq_cust, dtype: object"
      ]
     },
     "execution_count": 19,
     "metadata": {},
     "output_type": "execute_result"
    }
   ],
   "source": [
    "ords_prods_merge[\"freq_cust\"].head(60)"
   ]
  },
  {
   "cell_type": "markdown",
   "id": "bbf90ebe",
   "metadata": {},
   "source": [
    "# Export dataframe to pickle"
   ]
  },
  {
   "cell_type": "code",
   "execution_count": 20,
   "id": "2dd6d001",
   "metadata": {},
   "outputs": [],
   "source": [
    "ords_prods_merge.to_pickle(os.path.join(path,'02 Data', 'Prepared Data', 'ords_prods_flags.pkl' ))"
   ]
  },
  {
   "cell_type": "code",
   "execution_count": null,
   "id": "b22d870e",
   "metadata": {},
   "outputs": [],
   "source": []
  }
 ],
 "metadata": {
  "kernelspec": {
   "display_name": "Python 3",
   "language": "python",
   "name": "python3"
  },
  "language_info": {
   "codemirror_mode": {
    "name": "ipython",
    "version": 3
   },
   "file_extension": ".py",
   "mimetype": "text/x-python",
   "name": "python",
   "nbconvert_exporter": "python",
   "pygments_lexer": "ipython3",
   "version": "3.8.8"
  }
 },
 "nbformat": 4,
 "nbformat_minor": 5
}
