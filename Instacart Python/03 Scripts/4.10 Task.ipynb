{
 "cells": [
  {
   "cell_type": "raw",
   "id": "608303d7",
   "metadata": {},
   "source": [
    "# 01 Import Libraries"
   ]
  },
  {
   "cell_type": "code",
   "execution_count": 2,
   "id": "9ad2052e",
   "metadata": {},
   "outputs": [],
   "source": [
    "import pandas as pd\n",
    "import numpy as np\n",
    "import os\n",
    "import matplotlib.pyplot as plt\n",
    "import seaborn as sns\n",
    "import scipy"
   ]
  },
  {
   "cell_type": "markdown",
   "id": "1c24a5b3",
   "metadata": {},
   "source": [
    "# 02 Import Data"
   ]
  },
  {
   "cell_type": "code",
   "execution_count": 3,
   "id": "a58c4196",
   "metadata": {},
   "outputs": [],
   "source": [
    "# Set path\n",
    "\n",
    "path = r'C:\\Users\\Marce\\careerfoundry\\Instacart Basket Analysis'"
   ]
  },
  {
   "cell_type": "code",
   "execution_count": 4,
   "id": "21a4cf39",
   "metadata": {},
   "outputs": [],
   "source": [
    "# Import dataframe from pickle\n",
    "\n",
    "df = pd.read_pickle(os.path.join(path, '02 Data', 'Prepared Data', 'allinone.pkl'))"
   ]
  },
  {
   "cell_type": "code",
   "execution_count": 5,
   "id": "a5e27937",
   "metadata": {},
   "outputs": [],
   "source": [
    "# View all columns\n",
    "\n",
    "pd.set_option('display.max_columns', None)"
   ]
  },
  {
   "cell_type": "code",
   "execution_count": null,
   "id": "2ff6a299",
   "metadata": {},
   "outputs": [],
   "source": [
    "df.head(10)"
   ]
  },
  {
   "cell_type": "code",
   "execution_count": 6,
   "id": "547212ce",
   "metadata": {},
   "outputs": [],
   "source": [
    "#new dataframe to work with\n",
    "\n",
    "df_new =  df"
   ]
  },
  {
   "cell_type": "code",
   "execution_count": null,
   "id": "5d1e6173",
   "metadata": {},
   "outputs": [],
   "source": [
    "df_new.columns"
   ]
  },
  {
   "cell_type": "code",
   "execution_count": 7,
   "id": "3e37b48c",
   "metadata": {},
   "outputs": [],
   "source": [
    "#creating a list with if conditions to separate states in geographic regions\n",
    "\n",
    "result = []\n",
    "\n",
    "for value in df_new[\"State\"]:\n",
    "  if value in ('Maine','New Hampshire','Vermont','Massachusetts','Rhode Island','Connecticut','New York','Pennsylvania','New Jersey'):\n",
    "    result.append(\"Northeast\")\n",
    "  elif value in ('Wisconsin','Michigan','Illinois','Indiana','Ohio', 'North Dakota','South Dakota','Nebraska','Kansas','Minnesota','Iowa','Missouri'):\n",
    "   result.append(\"Midwest\")\n",
    "  elif value in ('Delaware','Maryland','District of Columbia','Virginia','West Virginia','North Carolina','South Carolina','Georgia','Florida','Kentucky','Tennessee','Mississippi','Alabama','Oklahoma','Texas','Arkansas','Louisiana'):\n",
    "   result.append(\"South\")\n",
    "  elif value in ('Idaho','Montana','Wyoming','Nevada','Utah','Colorado','Arizona','New Mexico','Alaska','Washington','Oregon','California','Hawaii'):\n",
    "   result.append(\"West\")"
   ]
  },
  {
   "cell_type": "code",
   "execution_count": 8,
   "id": "87cd6a78",
   "metadata": {},
   "outputs": [],
   "source": [
    "#creating a new column from the list\n",
    "\n",
    "df_new[\"Region\"] = result"
   ]
  },
  {
   "cell_type": "code",
   "execution_count": 9,
   "id": "9f430dac",
   "metadata": {},
   "outputs": [
    {
     "data": {
      "text/plain": [
       "South        8127783\n",
       "West         6257904\n",
       "Midwest      5710796\n",
       "Northeast    4314683\n",
       "Name: Region, dtype: int64"
      ]
     },
     "execution_count": 9,
     "metadata": {},
     "output_type": "execute_result"
    }
   ],
   "source": [
    "df_new[\"Region\"].value_counts(dropna = False)"
   ]
  },
  {
   "cell_type": "code",
   "execution_count": 9,
   "id": "3af0ae0c",
   "metadata": {},
   "outputs": [],
   "source": [
    "#creating a crosstab between region and spending_flag\n",
    "\n",
    "crosstab = pd.crosstab(df_new['Region'], df_new['spending_flag'], dropna = False)"
   ]
  },
  {
   "cell_type": "code",
   "execution_count": 10,
   "id": "d39f803e",
   "metadata": {},
   "outputs": [
    {
     "data": {
      "text/html": [
       "<div>\n",
       "<style scoped>\n",
       "    .dataframe tbody tr th:only-of-type {\n",
       "        vertical-align: middle;\n",
       "    }\n",
       "\n",
       "    .dataframe tbody tr th {\n",
       "        vertical-align: top;\n",
       "    }\n",
       "\n",
       "    .dataframe thead th {\n",
       "        text-align: right;\n",
       "    }\n",
       "</style>\n",
       "<table border=\"1\" class=\"dataframe\">\n",
       "  <thead>\n",
       "    <tr style=\"text-align: right;\">\n",
       "      <th>spending_flag</th>\n",
       "      <th>High spender</th>\n",
       "      <th>Low spender</th>\n",
       "    </tr>\n",
       "    <tr>\n",
       "      <th>Region</th>\n",
       "      <th></th>\n",
       "      <th></th>\n",
       "    </tr>\n",
       "  </thead>\n",
       "  <tbody>\n",
       "    <tr>\n",
       "      <th>Midwest</th>\n",
       "      <td>118248</td>\n",
       "      <td>5592548</td>\n",
       "    </tr>\n",
       "    <tr>\n",
       "      <th>Northeast</th>\n",
       "      <td>82029</td>\n",
       "      <td>4232654</td>\n",
       "    </tr>\n",
       "    <tr>\n",
       "      <th>South</th>\n",
       "      <td>157899</td>\n",
       "      <td>7969884</td>\n",
       "    </tr>\n",
       "    <tr>\n",
       "      <th>West</th>\n",
       "      <td>120826</td>\n",
       "      <td>6137078</td>\n",
       "    </tr>\n",
       "  </tbody>\n",
       "</table>\n",
       "</div>"
      ],
      "text/plain": [
       "spending_flag  High spender  Low spender\n",
       "Region                                  \n",
       "Midwest              118248      5592548\n",
       "Northeast             82029      4232654\n",
       "South                157899      7969884\n",
       "West                 120826      6137078"
      ]
     },
     "execution_count": 10,
     "metadata": {},
     "output_type": "execute_result"
    }
   ],
   "source": [
    "crosstab"
   ]
  },
  {
   "cell_type": "code",
   "execution_count": 10,
   "id": "91ab40a1",
   "metadata": {},
   "outputs": [],
   "source": [
    "# creating a list for a new column \"Relevance\"\n",
    "####what do you call an elephant that doesn't matter?\n",
    "\n",
    "result=[]\n",
    "\n",
    "for value in df_new[\"order_number\"]:\n",
    "  if value < 5:\n",
    "    result.append(\"Irrelephant\")\n",
    "  elif value >=5:\n",
    "    result.append(\"Relevant\")\n",
    "  else:\n",
    "    result.append(\"Problem\")"
   ]
  },
  {
   "cell_type": "code",
   "execution_count": 11,
   "id": "2dd9d47c",
   "metadata": {},
   "outputs": [],
   "source": [
    "# new column based on list\n",
    "\n",
    "df_new['Relevance'] = result"
   ]
  },
  {
   "cell_type": "code",
   "execution_count": 12,
   "id": "bafa525a",
   "metadata": {},
   "outputs": [
    {
     "data": {
      "text/plain": [
       "Relevant    24411166\n",
       "Name: Relevance, dtype: int64"
      ]
     },
     "execution_count": 12,
     "metadata": {},
     "output_type": "execute_result"
    }
   ],
   "source": [
    "df_new['Relevance'].value_counts(dropna = False) "
   ]
  },
  {
   "cell_type": "code",
   "execution_count": null,
   "id": "33478d10",
   "metadata": {},
   "outputs": [],
   "source": [
    "df_new.columns"
   ]
  },
  {
   "cell_type": "code",
   "execution_count": 13,
   "id": "a74af33c",
   "metadata": {},
   "outputs": [],
   "source": [
    "#creating new dataframe with only relevant customers\n",
    "\n",
    "df_rel = df_new[df_new[\"Relevance\"].str.contains(\"Irrelephant\")==False]"
   ]
  },
  {
   "cell_type": "code",
   "execution_count": 14,
   "id": "71d10a6f",
   "metadata": {},
   "outputs": [
    {
     "data": {
      "text/plain": [
       "Relevant    24411166\n",
       "Name: Relevance, dtype: int64"
      ]
     },
     "execution_count": 14,
     "metadata": {},
     "output_type": "execute_result"
    }
   ],
   "source": [
    "df_rel['Relevance'].value_counts(dropna = False)"
   ]
  },
  {
   "cell_type": "code",
   "execution_count": null,
   "id": "33f07982",
   "metadata": {},
   "outputs": [],
   "source": [
    "# exporting new dataframe \"df_rel\" in pickle format\n",
    "\n",
    "df_rel.to_pickle(os.path.join(path,'02 Data', 'Prepared Data', 'relevant.pkl' ))"
   ]
  },
  {
   "cell_type": "code",
   "execution_count": null,
   "id": "8ec707d0",
   "metadata": {},
   "outputs": [],
   "source": [
    "# creating a flag for 'Young Parent' based on age, dependants\n",
    "\n",
    "df_rel.loc[((df_rel['Age'] >= 18) & (df_rel['Age'] <= 35) & (df_rel['Dependants'] >= 1)), 'Parent_Status'] = 'Young parent'"
   ]
  },
  {
   "cell_type": "code",
   "execution_count": null,
   "id": "d7439446",
   "metadata": {},
   "outputs": [],
   "source": [
    "# creating a flag for 'Single adult' based on age, dependants\n",
    "\n",
    "df_rel.loc[(df_rel['Dependants'] == 0), 'Parent_Status'] = 'Single adult'"
   ]
  },
  {
   "cell_type": "code",
   "execution_count": null,
   "id": "a43fd8d7",
   "metadata": {},
   "outputs": [],
   "source": [
    "# creating a flag for 'Middle age parent' based on age, dependants\n",
    "\n",
    "df_rel.loc[(df_rel['Age'] >= 35) & (df_rel['Age'] <= 60) & (df_rel['Dependants'] >= 1), 'Parent_Status'] = 'Middle age parent'"
   ]
  },
  {
   "cell_type": "code",
   "execution_count": null,
   "id": "d13f0952",
   "metadata": {},
   "outputs": [],
   "source": [
    "# creating a flag for 'Older parent' based on age, dependants\n",
    "\n",
    "df_rel.loc[(df_rel['Age'] >= 60) & (df_rel['Dependants'] >= 1), 'Parent_Status'] = 'Older parent'"
   ]
  },
  {
   "cell_type": "code",
   "execution_count": null,
   "id": "bf98f25b",
   "metadata": {},
   "outputs": [],
   "source": [
    "# checking frequency of new column \"Parent Status\"\n",
    "\n",
    "df_rel[\"Parent_Status\"].value_counts(dropna = False)"
   ]
  },
  {
   "cell_type": "code",
   "execution_count": null,
   "id": "d22a4a46",
   "metadata": {},
   "outputs": [],
   "source": [
    "df_rel['Parent_Status'].value_counts().plot.bar()"
   ]
  },
  {
   "cell_type": "code",
   "execution_count": null,
   "id": "e06e1a1f",
   "metadata": {},
   "outputs": [],
   "source": [
    "# creating a bar chart based on column \"Parent Status\" and saving it\n",
    "\n",
    "bar=df_rel['Parent_Status'].value_counts().plot.bar()\n",
    "plt.tight_layout()\n",
    "bar.figure.savefig(os.path.join(path, '04 Analysis','Visualizations', 'bar_parent_status.png'))"
   ]
  },
  {
   "cell_type": "code",
   "execution_count": 16,
   "id": "929c79bf",
   "metadata": {},
   "outputs": [
    {
     "data": {
      "text/html": [
       "<div>\n",
       "<style scoped>\n",
       "    .dataframe tbody tr th:only-of-type {\n",
       "        vertical-align: middle;\n",
       "    }\n",
       "\n",
       "    .dataframe tbody tr th {\n",
       "        vertical-align: top;\n",
       "    }\n",
       "\n",
       "    .dataframe thead tr th {\n",
       "        text-align: left;\n",
       "    }\n",
       "\n",
       "    .dataframe thead tr:last-of-type th {\n",
       "        text-align: right;\n",
       "    }\n",
       "</style>\n",
       "<table border=\"1\" class=\"dataframe\">\n",
       "  <thead>\n",
       "    <tr>\n",
       "      <th></th>\n",
       "      <th colspan=\"3\" halign=\"left\">prices</th>\n",
       "    </tr>\n",
       "    <tr>\n",
       "      <th></th>\n",
       "      <th>mean</th>\n",
       "      <th>min</th>\n",
       "      <th>max</th>\n",
       "    </tr>\n",
       "    <tr>\n",
       "      <th>Parent_Status</th>\n",
       "      <th></th>\n",
       "      <th></th>\n",
       "      <th></th>\n",
       "    </tr>\n",
       "  </thead>\n",
       "  <tbody>\n",
       "    <tr>\n",
       "      <th>Middle age parent</th>\n",
       "      <td>7.792145</td>\n",
       "      <td>1.0</td>\n",
       "      <td>25.0</td>\n",
       "    </tr>\n",
       "    <tr>\n",
       "      <th>Older parent</th>\n",
       "      <td>7.792533</td>\n",
       "      <td>1.0</td>\n",
       "      <td>25.0</td>\n",
       "    </tr>\n",
       "    <tr>\n",
       "      <th>Single adult</th>\n",
       "      <td>7.790987</td>\n",
       "      <td>1.0</td>\n",
       "      <td>25.0</td>\n",
       "    </tr>\n",
       "    <tr>\n",
       "      <th>Young parent</th>\n",
       "      <td>7.785727</td>\n",
       "      <td>1.0</td>\n",
       "      <td>25.0</td>\n",
       "    </tr>\n",
       "  </tbody>\n",
       "</table>\n",
       "</div>"
      ],
      "text/plain": [
       "                     prices           \n",
       "                       mean  min   max\n",
       "Parent_Status                         \n",
       "Middle age parent  7.792145  1.0  25.0\n",
       "Older parent       7.792533  1.0  25.0\n",
       "Single adult       7.790987  1.0  25.0\n",
       "Young parent       7.785727  1.0  25.0"
      ]
     },
     "execution_count": 16,
     "metadata": {},
     "output_type": "execute_result"
    }
   ],
   "source": [
    "# find mean, min, max for prices of \"Parent Status\"\n",
    "\n",
    "df_rel.groupby('Parent_Status').agg({'prices': ['mean', 'min', 'max']})"
   ]
  },
  {
   "cell_type": "code",
   "execution_count": 17,
   "id": "0e6906a3",
   "metadata": {},
   "outputs": [
    {
     "data": {
      "text/html": [
       "<div>\n",
       "<style scoped>\n",
       "    .dataframe tbody tr th:only-of-type {\n",
       "        vertical-align: middle;\n",
       "    }\n",
       "\n",
       "    .dataframe tbody tr th {\n",
       "        vertical-align: top;\n",
       "    }\n",
       "\n",
       "    .dataframe thead tr th {\n",
       "        text-align: left;\n",
       "    }\n",
       "\n",
       "    .dataframe thead tr:last-of-type th {\n",
       "        text-align: right;\n",
       "    }\n",
       "</style>\n",
       "<table border=\"1\" class=\"dataframe\">\n",
       "  <thead>\n",
       "    <tr>\n",
       "      <th></th>\n",
       "      <th colspan=\"3\" halign=\"left\">days_since_prior_order</th>\n",
       "    </tr>\n",
       "    <tr>\n",
       "      <th></th>\n",
       "      <th>mean</th>\n",
       "      <th>min</th>\n",
       "      <th>max</th>\n",
       "    </tr>\n",
       "    <tr>\n",
       "      <th>Parent_Status</th>\n",
       "      <th></th>\n",
       "      <th></th>\n",
       "      <th></th>\n",
       "    </tr>\n",
       "  </thead>\n",
       "  <tbody>\n",
       "    <tr>\n",
       "      <th>Middle age parent</th>\n",
       "      <td>10.098064</td>\n",
       "      <td>0.0</td>\n",
       "      <td>30.0</td>\n",
       "    </tr>\n",
       "    <tr>\n",
       "      <th>Older parent</th>\n",
       "      <td>10.092253</td>\n",
       "      <td>0.0</td>\n",
       "      <td>30.0</td>\n",
       "    </tr>\n",
       "    <tr>\n",
       "      <th>Single adult</th>\n",
       "      <td>10.063515</td>\n",
       "      <td>0.0</td>\n",
       "      <td>30.0</td>\n",
       "    </tr>\n",
       "    <tr>\n",
       "      <th>Young parent</th>\n",
       "      <td>10.083936</td>\n",
       "      <td>0.0</td>\n",
       "      <td>30.0</td>\n",
       "    </tr>\n",
       "  </tbody>\n",
       "</table>\n",
       "</div>"
      ],
      "text/plain": [
       "                  days_since_prior_order           \n",
       "                                    mean  min   max\n",
       "Parent_Status                                      \n",
       "Middle age parent              10.098064  0.0  30.0\n",
       "Older parent                   10.092253  0.0  30.0\n",
       "Single adult                   10.063515  0.0  30.0\n",
       "Young parent                   10.083936  0.0  30.0"
      ]
     },
     "execution_count": 17,
     "metadata": {},
     "output_type": "execute_result"
    }
   ],
   "source": [
    "# find mean, min, max for prices of \"days_since_prior_order\"\n",
    "\n",
    "df_rel.groupby('Parent_Status').agg({'days_since_prior_order': ['mean', 'min', 'max']})"
   ]
  },
  {
   "cell_type": "code",
   "execution_count": null,
   "id": "6b2b4823",
   "metadata": {},
   "outputs": [],
   "source": [
    "# creating crosstab between \"Parent Status\" and \"Region\"\n",
    "\n",
    "crosstab_cust_region = pd.crosstab(df_rel['Parent_Status'], df_rel['Region'], dropna = False)"
   ]
  },
  {
   "cell_type": "code",
   "execution_count": null,
   "id": "a5791fbe",
   "metadata": {},
   "outputs": [],
   "source": [
    "crosstab_cust_region"
   ]
  },
  {
   "cell_type": "code",
   "execution_count": null,
   "id": "1f5232ba",
   "metadata": {},
   "outputs": [],
   "source": [
    "crosstab_cust_region.to_clipboard()"
   ]
  },
  {
   "cell_type": "code",
   "execution_count": null,
   "id": "73398297",
   "metadata": {},
   "outputs": [],
   "source": [
    "# plot and save bar char of crosstab\n",
    "\n",
    "cust_region_bar = crosstab_cust_region.plot.bar(stacked=True, color=[\"blue\", \"orange\", \"green\", \"purple\"])\n",
    "plt.legend(title=\"Customer/Region\")\n",
    "plt.tight_layout()\n",
    "plt.savefig(os.path.join(path, '04 Analysis','Visualizations', 'customer_regions.png'))"
   ]
  },
  {
   "cell_type": "code",
   "execution_count": null,
   "id": "86cd57aa",
   "metadata": {},
   "outputs": [],
   "source": [
    "# creating crosstab\n",
    "\n",
    "crosstab_cust_region = pd.crosstab(df_rel['department_id'], df_rel['Parent_Status'], dropna = False)"
   ]
  },
  {
   "cell_type": "code",
   "execution_count": null,
   "id": "a9f14239",
   "metadata": {},
   "outputs": [],
   "source": [
    "# plot and save bar chart of crosstab\n",
    "\n",
    "cust_region_bar = crosstab_cust_region.plot.bar()\n",
    "plt.legend(title=\"Customer/Departments\")\n",
    "plt.tight_layout()\n",
    "plt.savefig(os.path.join(path, '04 Analysis','Visualizations', 'customer_department.png'))"
   ]
  },
  {
   "cell_type": "code",
   "execution_count": null,
   "id": "28418fd6",
   "metadata": {},
   "outputs": [],
   "source": [
    "# creating a crosstab\n",
    "\n",
    "crosstab_depend_depart = pd.crosstab(df_rel['department_id'], df_rel['Dependants'], dropna = False)"
   ]
  },
  {
   "cell_type": "code",
   "execution_count": null,
   "id": "045bc5e0",
   "metadata": {},
   "outputs": [],
   "source": [
    "# plot and save bar chart of crosstab\n",
    "\n",
    "depend_depart = crosstab_depend_depart.plot.bar()\n",
    "plt.legend(title=\"Dependants\")\n",
    "plt.tight_layout()\n",
    "plt.savefig(os.path.join(path, '04 Analysis','Visualizations', 'dependants_department.png'))"
   ]
  },
  {
   "cell_type": "code",
   "execution_count": null,
   "id": "711c6b87",
   "metadata": {},
   "outputs": [],
   "source": [
    "df_rel.columns"
   ]
  },
  {
   "cell_type": "code",
   "execution_count": null,
   "id": "6bcd2631",
   "metadata": {},
   "outputs": [],
   "source": [
    "df_rel.head()"
   ]
  },
  {
   "cell_type": "code",
   "execution_count": null,
   "id": "1aa7bf8a",
   "metadata": {},
   "outputs": [],
   "source": [
    "df_rel[\"busiest_period_of_day\"].value_counts(dropna = False)"
   ]
  },
  {
   "cell_type": "code",
   "execution_count": 15,
   "id": "e5977272",
   "metadata": {},
   "outputs": [
    {
     "data": {
      "image/png": "[encoded data removed]",
      "text/plain": [
       "<Figure size 432x288 with 1 Axes>"
      ]
     },
     "metadata": {
      "needs_background": "light"
     },
     "output_type": "display_data"
    }
   ],
   "source": [
    "# creating a bar chart\n",
    "\n",
    "bar_hour=df_rel['order_hour_of_day'].value_counts().plot.bar()\n",
    "plt.tight_layout()\n",
    "bar.figure.savefig(os.path.join(path, '04 Analysis','Visualizations', 'bar_hour.png'))"
   ]
  },
  {
   "cell_type": "code",
   "execution_count": null,
   "id": "51f3d0e8",
   "metadata": {},
   "outputs": [],
   "source": [
    "df_rel['product_name'].value_counts(dropna=False)"
   ]
  },
  {
   "cell_type": "code",
   "execution_count": null,
   "id": "171c3651",
   "metadata": {},
   "outputs": [],
   "source": [
    "# creating a bar chart for the top 10 most bought products\n",
    "prodspop = df_rel['product_name'].value_counts(dropna=False).nlargest(10).plot.bar()\n",
    "plt.tight_layout()\n",
    "prodspop.figure.savefig(os.path.join(path, '04 Analysis','Visualizations', 'prodspop.png'))"
   ]
  },
  {
   "cell_type": "code",
   "execution_count": null,
   "id": "fd1c6020",
   "metadata": {},
   "outputs": [],
   "source": []
  }
 ],
 "metadata": {
  "kernelspec": {
   "display_name": "Python 3",
   "language": "python",
   "name": "python3"
  },
  "language_info": {
   "codemirror_mode": {
    "name": "ipython",
    "version": 3
   },
   "file_extension": ".py",
   "mimetype": "text/x-python",
   "name": "python",
   "nbconvert_exporter": "python",
   "pygments_lexer": "ipython3",
   "version": "3.8.8"
  }
 },
 "nbformat": 4,
 "nbformat_minor": 5
}
