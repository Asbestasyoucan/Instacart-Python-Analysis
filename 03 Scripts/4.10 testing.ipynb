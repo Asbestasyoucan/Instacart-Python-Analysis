{
 "cells": [
  {
   "cell_type": "markdown",
   "id": "0f23dc9d",
   "metadata": {},
   "source": [
    "# 01 Import Libraries"
   ]
  },
  {
   "cell_type": "code",
   "execution_count": 1,
   "id": "8182391e",
   "metadata": {},
   "outputs": [],
   "source": [
    "import pandas as pd\n",
    "import numpy as np\n",
    "import os\n",
    "import matplotlib.pyplot as plt\n",
    "import seaborn as sns\n",
    "import scipy"
   ]
  },
  {
   "cell_type": "markdown",
   "id": "7820ac54",
   "metadata": {},
   "source": [
    "# 02 Import Data"
   ]
  },
  {
   "cell_type": "code",
   "execution_count": 2,
   "id": "83c527ef",
   "metadata": {},
   "outputs": [],
   "source": [
    "# Set path\n",
    "path = r'C:\\Users\\Marce\\careerfoundry\\Instacart Basket Analysis'"
   ]
  },
  {
   "cell_type": "code",
   "execution_count": 3,
   "id": "4b07c793",
   "metadata": {},
   "outputs": [],
   "source": [
    "# Import dataframe from pickle\n",
    "ords_prods_new = pd.read_pickle(os.path.join(path, '02 Data', 'Prepared Data', 'allinone.pkl'))"
   ]
  },
  {
   "cell_type": "code",
   "execution_count": 4,
   "id": "16c8432c",
   "metadata": {},
   "outputs": [],
   "source": [
    "crosstab = pd.crosstab(ords_prods_new['days_since_prior_order'], ords_prods_new['order_number'], dropna = False)"
   ]
  },
  {
   "cell_type": "code",
   "execution_count": 5,
   "id": "08beba3f",
   "metadata": {},
   "outputs": [],
   "source": [
    "crosstab.to_clipboard()"
   ]
  },
  {
   "cell_type": "code",
   "execution_count": 7,
   "id": "b75a0e5a",
   "metadata": {},
   "outputs": [
    {
     "data": {
      "text/plain": [
       "Index(['Unnamed: 0_x', 'order_id', 'user_id', 'eval_set', 'order_number',\n",
       "       'order_dow', 'order_hour_of_day', 'days_since_prior_order',\n",
       "       'product_id', 'add_to_cart_order', 'reordered', 'Unnamed: 0_y',\n",
       "       'product_name', 'aisle_id', 'department_id', 'prices', '_merge',\n",
       "       'price_range_loc', 'busiest day', 'busiest/slowest days',\n",
       "       'busiest_period_of_day', 'max_order', 'loyalty_flag', 'mean_prices',\n",
       "       'spending_flag', 'median_days', 'freq_cust'],\n",
       "      dtype='object')"
      ]
     },
     "execution_count": 7,
     "metadata": {},
     "output_type": "execute_result"
    }
   ],
   "source": [
    "ords_prods_new.columns"
   ]
  },
  {
   "cell_type": "code",
   "execution_count": null,
   "id": "c7036680",
   "metadata": {},
   "outputs": [],
   "source": []
  }
 ],
 "metadata": {
  "kernelspec": {
   "display_name": "Python 3",
   "language": "python",
   "name": "python3"
  },
  "language_info": {
   "codemirror_mode": {
    "name": "ipython",
    "version": 3
   },
   "file_extension": ".py",
   "mimetype": "text/x-python",
   "name": "python",
   "nbconvert_exporter": "python",
   "pygments_lexer": "ipython3",
   "version": "3.8.8"
  }
 },
 "nbformat": 4,
 "nbformat_minor": 5
}
