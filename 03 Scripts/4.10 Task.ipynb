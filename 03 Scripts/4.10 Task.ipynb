{
 "cells": [
  {
   "cell_type": "markdown",
   "id": "e4a259b3",
   "metadata": {},
   "source": [
    "# 01 Import Libraries"
   ]
  },
  {
   "cell_type": "code",
   "execution_count": 1,
   "id": "9ad2052e",
   "metadata": {},
   "outputs": [],
   "source": [
    "import pandas as pd\n",
    "import numpy as np\n",
    "import os\n",
    "import matplotlib.pyplot as plt\n",
    "import seaborn as sns\n",
    "import scipy"
   ]
  },
  {
   "cell_type": "markdown",
   "id": "1c24a5b3",
   "metadata": {},
   "source": [
    "# 02 Import Data"
   ]
  },
  {
   "cell_type": "code",
   "execution_count": 2,
   "id": "a58c4196",
   "metadata": {},
   "outputs": [],
   "source": [
    "# Set path\n",
    "\n",
    "path = r'C:\\Users\\Marce\\careerfoundry\\Instacart Basket Analysis'"
   ]
  },
  {
   "cell_type": "code",
   "execution_count": 3,
   "id": "21a4cf39",
   "metadata": {},
   "outputs": [],
   "source": [
    "# Import dataframe from pickle\n",
    "\n",
    "df = pd.read_pickle(os.path.join(path, '02 Data', 'Prepared Data', 'allinone.pkl'))"
   ]
  },
  {
   "cell_type": "code",
   "execution_count": 4,
   "id": "a5e27937",
   "metadata": {},
   "outputs": [],
   "source": [
    "# View all columns\n",
    "\n",
    "pd.set_option('display.max_columns', None)"
   ]
  },
  {
   "cell_type": "code",
   "execution_count": 5,
   "id": "2ff6a299",
   "metadata": {},
   "outputs": [
    {
     "data": {
      "text/html": [
       "<div>\n",
       "<style scoped>\n",
       "    .dataframe tbody tr th:only-of-type {\n",
       "        vertical-align: middle;\n",
       "    }\n",
       "\n",
       "    .dataframe tbody tr th {\n",
       "        vertical-align: top;\n",
       "    }\n",
       "\n",
       "    .dataframe thead th {\n",
       "        text-align: right;\n",
       "    }\n",
       "</style>\n",
       "<table border=\"1\" class=\"dataframe\">\n",
       "  <thead>\n",
       "    <tr style=\"text-align: right;\">\n",
       "      <th></th>\n",
       "      <th>order_id</th>\n",
       "      <th>user_id</th>\n",
       "      <th>order_number</th>\n",
       "      <th>order_dow</th>\n",
       "      <th>order_hour_of_day</th>\n",
       "      <th>days_since_prior_order</th>\n",
       "      <th>product_id</th>\n",
       "      <th>add_to_cart_order</th>\n",
       "      <th>reordered</th>\n",
       "      <th>product_name</th>\n",
       "      <th>aisle_id</th>\n",
       "      <th>department_id</th>\n",
       "      <th>prices</th>\n",
       "      <th>price_range_loc</th>\n",
       "      <th>busiest day</th>\n",
       "      <th>busiest/slowest days</th>\n",
       "      <th>busiest_period_of_day</th>\n",
       "      <th>max_order</th>\n",
       "      <th>loyalty_flag</th>\n",
       "      <th>mean_prices</th>\n",
       "      <th>spending_flag</th>\n",
       "      <th>median_days</th>\n",
       "      <th>freq_cust</th>\n",
       "      <th>Gender</th>\n",
       "      <th>State</th>\n",
       "      <th>Age</th>\n",
       "      <th>Join date</th>\n",
       "      <th>Dependants</th>\n",
       "      <th>fam_status</th>\n",
       "      <th>Income</th>\n",
       "      <th>Region</th>\n",
       "      <th>Relevance</th>\n",
       "      <th>Parent_Status</th>\n",
       "    </tr>\n",
       "  </thead>\n",
       "  <tbody>\n",
       "    <tr>\n",
       "      <th>4</th>\n",
       "      <td>431534</td>\n",
       "      <td>1</td>\n",
       "      <td>5</td>\n",
       "      <td>4</td>\n",
       "      <td>15</td>\n",
       "      <td>28.0</td>\n",
       "      <td>196</td>\n",
       "      <td>1</td>\n",
       "      <td>1</td>\n",
       "      <td>Soda</td>\n",
       "      <td>77</td>\n",
       "      <td>7</td>\n",
       "      <td>9.0</td>\n",
       "      <td>Mid-range product</td>\n",
       "      <td>Least busy</td>\n",
       "      <td>Slowest days</td>\n",
       "      <td>Most orders</td>\n",
       "      <td>10</td>\n",
       "      <td>New customer</td>\n",
       "      <td>6.367797</td>\n",
       "      <td>Low spender</td>\n",
       "      <td>20.5</td>\n",
       "      <td>Non-frequent customer</td>\n",
       "      <td>Female</td>\n",
       "      <td>Alabama</td>\n",
       "      <td>31</td>\n",
       "      <td>2/17/2019</td>\n",
       "      <td>3</td>\n",
       "      <td>married</td>\n",
       "      <td>40423</td>\n",
       "      <td>South</td>\n",
       "      <td>Relevant</td>\n",
       "      <td>Young parent</td>\n",
       "    </tr>\n",
       "    <tr>\n",
       "      <th>5</th>\n",
       "      <td>3367565</td>\n",
       "      <td>1</td>\n",
       "      <td>6</td>\n",
       "      <td>2</td>\n",
       "      <td>7</td>\n",
       "      <td>19.0</td>\n",
       "      <td>196</td>\n",
       "      <td>1</td>\n",
       "      <td>1</td>\n",
       "      <td>Soda</td>\n",
       "      <td>77</td>\n",
       "      <td>7</td>\n",
       "      <td>9.0</td>\n",
       "      <td>Mid-range product</td>\n",
       "      <td>Regularly busy</td>\n",
       "      <td>Regular days</td>\n",
       "      <td>Average orders</td>\n",
       "      <td>10</td>\n",
       "      <td>New customer</td>\n",
       "      <td>6.367797</td>\n",
       "      <td>Low spender</td>\n",
       "      <td>20.5</td>\n",
       "      <td>Non-frequent customer</td>\n",
       "      <td>Female</td>\n",
       "      <td>Alabama</td>\n",
       "      <td>31</td>\n",
       "      <td>2/17/2019</td>\n",
       "      <td>3</td>\n",
       "      <td>married</td>\n",
       "      <td>40423</td>\n",
       "      <td>South</td>\n",
       "      <td>Relevant</td>\n",
       "      <td>Young parent</td>\n",
       "    </tr>\n",
       "    <tr>\n",
       "      <th>6</th>\n",
       "      <td>550135</td>\n",
       "      <td>1</td>\n",
       "      <td>7</td>\n",
       "      <td>1</td>\n",
       "      <td>9</td>\n",
       "      <td>20.0</td>\n",
       "      <td>196</td>\n",
       "      <td>1</td>\n",
       "      <td>1</td>\n",
       "      <td>Soda</td>\n",
       "      <td>77</td>\n",
       "      <td>7</td>\n",
       "      <td>9.0</td>\n",
       "      <td>Mid-range product</td>\n",
       "      <td>Regularly busy</td>\n",
       "      <td>Busiest days</td>\n",
       "      <td>Most orders</td>\n",
       "      <td>10</td>\n",
       "      <td>New customer</td>\n",
       "      <td>6.367797</td>\n",
       "      <td>Low spender</td>\n",
       "      <td>20.5</td>\n",
       "      <td>Non-frequent customer</td>\n",
       "      <td>Female</td>\n",
       "      <td>Alabama</td>\n",
       "      <td>31</td>\n",
       "      <td>2/17/2019</td>\n",
       "      <td>3</td>\n",
       "      <td>married</td>\n",
       "      <td>40423</td>\n",
       "      <td>South</td>\n",
       "      <td>Relevant</td>\n",
       "      <td>Young parent</td>\n",
       "    </tr>\n",
       "    <tr>\n",
       "      <th>7</th>\n",
       "      <td>3108588</td>\n",
       "      <td>1</td>\n",
       "      <td>8</td>\n",
       "      <td>1</td>\n",
       "      <td>14</td>\n",
       "      <td>14.0</td>\n",
       "      <td>196</td>\n",
       "      <td>2</td>\n",
       "      <td>1</td>\n",
       "      <td>Soda</td>\n",
       "      <td>77</td>\n",
       "      <td>7</td>\n",
       "      <td>9.0</td>\n",
       "      <td>Mid-range product</td>\n",
       "      <td>Regularly busy</td>\n",
       "      <td>Busiest days</td>\n",
       "      <td>Most orders</td>\n",
       "      <td>10</td>\n",
       "      <td>New customer</td>\n",
       "      <td>6.367797</td>\n",
       "      <td>Low spender</td>\n",
       "      <td>20.5</td>\n",
       "      <td>Non-frequent customer</td>\n",
       "      <td>Female</td>\n",
       "      <td>Alabama</td>\n",
       "      <td>31</td>\n",
       "      <td>2/17/2019</td>\n",
       "      <td>3</td>\n",
       "      <td>married</td>\n",
       "      <td>40423</td>\n",
       "      <td>South</td>\n",
       "      <td>Relevant</td>\n",
       "      <td>Young parent</td>\n",
       "    </tr>\n",
       "    <tr>\n",
       "      <th>8</th>\n",
       "      <td>2295261</td>\n",
       "      <td>1</td>\n",
       "      <td>9</td>\n",
       "      <td>1</td>\n",
       "      <td>16</td>\n",
       "      <td>0.0</td>\n",
       "      <td>196</td>\n",
       "      <td>4</td>\n",
       "      <td>1</td>\n",
       "      <td>Soda</td>\n",
       "      <td>77</td>\n",
       "      <td>7</td>\n",
       "      <td>9.0</td>\n",
       "      <td>Mid-range product</td>\n",
       "      <td>Regularly busy</td>\n",
       "      <td>Busiest days</td>\n",
       "      <td>Most orders</td>\n",
       "      <td>10</td>\n",
       "      <td>New customer</td>\n",
       "      <td>6.367797</td>\n",
       "      <td>Low spender</td>\n",
       "      <td>20.5</td>\n",
       "      <td>Non-frequent customer</td>\n",
       "      <td>Female</td>\n",
       "      <td>Alabama</td>\n",
       "      <td>31</td>\n",
       "      <td>2/17/2019</td>\n",
       "      <td>3</td>\n",
       "      <td>married</td>\n",
       "      <td>40423</td>\n",
       "      <td>South</td>\n",
       "      <td>Relevant</td>\n",
       "      <td>Young parent</td>\n",
       "    </tr>\n",
       "    <tr>\n",
       "      <th>9</th>\n",
       "      <td>2550362</td>\n",
       "      <td>1</td>\n",
       "      <td>10</td>\n",
       "      <td>4</td>\n",
       "      <td>8</td>\n",
       "      <td>30.0</td>\n",
       "      <td>196</td>\n",
       "      <td>1</td>\n",
       "      <td>1</td>\n",
       "      <td>Soda</td>\n",
       "      <td>77</td>\n",
       "      <td>7</td>\n",
       "      <td>9.0</td>\n",
       "      <td>Mid-range product</td>\n",
       "      <td>Least busy</td>\n",
       "      <td>Slowest days</td>\n",
       "      <td>Average orders</td>\n",
       "      <td>10</td>\n",
       "      <td>New customer</td>\n",
       "      <td>6.367797</td>\n",
       "      <td>Low spender</td>\n",
       "      <td>20.5</td>\n",
       "      <td>Non-frequent customer</td>\n",
       "      <td>Female</td>\n",
       "      <td>Alabama</td>\n",
       "      <td>31</td>\n",
       "      <td>2/17/2019</td>\n",
       "      <td>3</td>\n",
       "      <td>married</td>\n",
       "      <td>40423</td>\n",
       "      <td>South</td>\n",
       "      <td>Relevant</td>\n",
       "      <td>Young parent</td>\n",
       "    </tr>\n",
       "    <tr>\n",
       "      <th>15</th>\n",
       "      <td>431534</td>\n",
       "      <td>1</td>\n",
       "      <td>5</td>\n",
       "      <td>4</td>\n",
       "      <td>15</td>\n",
       "      <td>28.0</td>\n",
       "      <td>12427</td>\n",
       "      <td>2</td>\n",
       "      <td>1</td>\n",
       "      <td>Original Beef Jerky</td>\n",
       "      <td>23</td>\n",
       "      <td>19</td>\n",
       "      <td>4.4</td>\n",
       "      <td>Low-range product</td>\n",
       "      <td>Least busy</td>\n",
       "      <td>Slowest days</td>\n",
       "      <td>Most orders</td>\n",
       "      <td>10</td>\n",
       "      <td>New customer</td>\n",
       "      <td>6.367797</td>\n",
       "      <td>Low spender</td>\n",
       "      <td>20.5</td>\n",
       "      <td>Non-frequent customer</td>\n",
       "      <td>Female</td>\n",
       "      <td>Alabama</td>\n",
       "      <td>31</td>\n",
       "      <td>2/17/2019</td>\n",
       "      <td>3</td>\n",
       "      <td>married</td>\n",
       "      <td>40423</td>\n",
       "      <td>South</td>\n",
       "      <td>Relevant</td>\n",
       "      <td>Young parent</td>\n",
       "    </tr>\n",
       "    <tr>\n",
       "      <th>16</th>\n",
       "      <td>3367565</td>\n",
       "      <td>1</td>\n",
       "      <td>6</td>\n",
       "      <td>2</td>\n",
       "      <td>7</td>\n",
       "      <td>19.0</td>\n",
       "      <td>12427</td>\n",
       "      <td>2</td>\n",
       "      <td>1</td>\n",
       "      <td>Original Beef Jerky</td>\n",
       "      <td>23</td>\n",
       "      <td>19</td>\n",
       "      <td>4.4</td>\n",
       "      <td>Low-range product</td>\n",
       "      <td>Regularly busy</td>\n",
       "      <td>Regular days</td>\n",
       "      <td>Average orders</td>\n",
       "      <td>10</td>\n",
       "      <td>New customer</td>\n",
       "      <td>6.367797</td>\n",
       "      <td>Low spender</td>\n",
       "      <td>20.5</td>\n",
       "      <td>Non-frequent customer</td>\n",
       "      <td>Female</td>\n",
       "      <td>Alabama</td>\n",
       "      <td>31</td>\n",
       "      <td>2/17/2019</td>\n",
       "      <td>3</td>\n",
       "      <td>married</td>\n",
       "      <td>40423</td>\n",
       "      <td>South</td>\n",
       "      <td>Relevant</td>\n",
       "      <td>Young parent</td>\n",
       "    </tr>\n",
       "    <tr>\n",
       "      <th>17</th>\n",
       "      <td>550135</td>\n",
       "      <td>1</td>\n",
       "      <td>7</td>\n",
       "      <td>1</td>\n",
       "      <td>9</td>\n",
       "      <td>20.0</td>\n",
       "      <td>12427</td>\n",
       "      <td>3</td>\n",
       "      <td>1</td>\n",
       "      <td>Original Beef Jerky</td>\n",
       "      <td>23</td>\n",
       "      <td>19</td>\n",
       "      <td>4.4</td>\n",
       "      <td>Low-range product</td>\n",
       "      <td>Regularly busy</td>\n",
       "      <td>Busiest days</td>\n",
       "      <td>Most orders</td>\n",
       "      <td>10</td>\n",
       "      <td>New customer</td>\n",
       "      <td>6.367797</td>\n",
       "      <td>Low spender</td>\n",
       "      <td>20.5</td>\n",
       "      <td>Non-frequent customer</td>\n",
       "      <td>Female</td>\n",
       "      <td>Alabama</td>\n",
       "      <td>31</td>\n",
       "      <td>2/17/2019</td>\n",
       "      <td>3</td>\n",
       "      <td>married</td>\n",
       "      <td>40423</td>\n",
       "      <td>South</td>\n",
       "      <td>Relevant</td>\n",
       "      <td>Young parent</td>\n",
       "    </tr>\n",
       "    <tr>\n",
       "      <th>18</th>\n",
       "      <td>3108588</td>\n",
       "      <td>1</td>\n",
       "      <td>8</td>\n",
       "      <td>1</td>\n",
       "      <td>14</td>\n",
       "      <td>14.0</td>\n",
       "      <td>12427</td>\n",
       "      <td>1</td>\n",
       "      <td>1</td>\n",
       "      <td>Original Beef Jerky</td>\n",
       "      <td>23</td>\n",
       "      <td>19</td>\n",
       "      <td>4.4</td>\n",
       "      <td>Low-range product</td>\n",
       "      <td>Regularly busy</td>\n",
       "      <td>Busiest days</td>\n",
       "      <td>Most orders</td>\n",
       "      <td>10</td>\n",
       "      <td>New customer</td>\n",
       "      <td>6.367797</td>\n",
       "      <td>Low spender</td>\n",
       "      <td>20.5</td>\n",
       "      <td>Non-frequent customer</td>\n",
       "      <td>Female</td>\n",
       "      <td>Alabama</td>\n",
       "      <td>31</td>\n",
       "      <td>2/17/2019</td>\n",
       "      <td>3</td>\n",
       "      <td>married</td>\n",
       "      <td>40423</td>\n",
       "      <td>South</td>\n",
       "      <td>Relevant</td>\n",
       "      <td>Young parent</td>\n",
       "    </tr>\n",
       "  </tbody>\n",
       "</table>\n",
       "</div>"
      ],
      "text/plain": [
       "    order_id  user_id  order_number  order_dow  order_hour_of_day  \\\n",
       "4     431534        1             5          4                 15   \n",
       "5    3367565        1             6          2                  7   \n",
       "6     550135        1             7          1                  9   \n",
       "7    3108588        1             8          1                 14   \n",
       "8    2295261        1             9          1                 16   \n",
       "9    2550362        1            10          4                  8   \n",
       "15    431534        1             5          4                 15   \n",
       "16   3367565        1             6          2                  7   \n",
       "17    550135        1             7          1                  9   \n",
       "18   3108588        1             8          1                 14   \n",
       "\n",
       "    days_since_prior_order  product_id  add_to_cart_order  reordered  \\\n",
       "4                     28.0         196                  1          1   \n",
       "5                     19.0         196                  1          1   \n",
       "6                     20.0         196                  1          1   \n",
       "7                     14.0         196                  2          1   \n",
       "8                      0.0         196                  4          1   \n",
       "9                     30.0         196                  1          1   \n",
       "15                    28.0       12427                  2          1   \n",
       "16                    19.0       12427                  2          1   \n",
       "17                    20.0       12427                  3          1   \n",
       "18                    14.0       12427                  1          1   \n",
       "\n",
       "           product_name  aisle_id  department_id  prices    price_range_loc  \\\n",
       "4                  Soda        77              7     9.0  Mid-range product   \n",
       "5                  Soda        77              7     9.0  Mid-range product   \n",
       "6                  Soda        77              7     9.0  Mid-range product   \n",
       "7                  Soda        77              7     9.0  Mid-range product   \n",
       "8                  Soda        77              7     9.0  Mid-range product   \n",
       "9                  Soda        77              7     9.0  Mid-range product   \n",
       "15  Original Beef Jerky        23             19     4.4  Low-range product   \n",
       "16  Original Beef Jerky        23             19     4.4  Low-range product   \n",
       "17  Original Beef Jerky        23             19     4.4  Low-range product   \n",
       "18  Original Beef Jerky        23             19     4.4  Low-range product   \n",
       "\n",
       "       busiest day busiest/slowest days busiest_period_of_day  max_order  \\\n",
       "4       Least busy         Slowest days           Most orders         10   \n",
       "5   Regularly busy         Regular days        Average orders         10   \n",
       "6   Regularly busy         Busiest days           Most orders         10   \n",
       "7   Regularly busy         Busiest days           Most orders         10   \n",
       "8   Regularly busy         Busiest days           Most orders         10   \n",
       "9       Least busy         Slowest days        Average orders         10   \n",
       "15      Least busy         Slowest days           Most orders         10   \n",
       "16  Regularly busy         Regular days        Average orders         10   \n",
       "17  Regularly busy         Busiest days           Most orders         10   \n",
       "18  Regularly busy         Busiest days           Most orders         10   \n",
       "\n",
       "    loyalty_flag  mean_prices spending_flag  median_days  \\\n",
       "4   New customer     6.367797   Low spender         20.5   \n",
       "5   New customer     6.367797   Low spender         20.5   \n",
       "6   New customer     6.367797   Low spender         20.5   \n",
       "7   New customer     6.367797   Low spender         20.5   \n",
       "8   New customer     6.367797   Low spender         20.5   \n",
       "9   New customer     6.367797   Low spender         20.5   \n",
       "15  New customer     6.367797   Low spender         20.5   \n",
       "16  New customer     6.367797   Low spender         20.5   \n",
       "17  New customer     6.367797   Low spender         20.5   \n",
       "18  New customer     6.367797   Low spender         20.5   \n",
       "\n",
       "                freq_cust  Gender    State  Age  Join date  Dependants  \\\n",
       "4   Non-frequent customer  Female  Alabama   31  2/17/2019           3   \n",
       "5   Non-frequent customer  Female  Alabama   31  2/17/2019           3   \n",
       "6   Non-frequent customer  Female  Alabama   31  2/17/2019           3   \n",
       "7   Non-frequent customer  Female  Alabama   31  2/17/2019           3   \n",
       "8   Non-frequent customer  Female  Alabama   31  2/17/2019           3   \n",
       "9   Non-frequent customer  Female  Alabama   31  2/17/2019           3   \n",
       "15  Non-frequent customer  Female  Alabama   31  2/17/2019           3   \n",
       "16  Non-frequent customer  Female  Alabama   31  2/17/2019           3   \n",
       "17  Non-frequent customer  Female  Alabama   31  2/17/2019           3   \n",
       "18  Non-frequent customer  Female  Alabama   31  2/17/2019           3   \n",
       "\n",
       "   fam_status  Income Region Relevance Parent_Status  \n",
       "4     married   40423  South  Relevant  Young parent  \n",
       "5     married   40423  South  Relevant  Young parent  \n",
       "6     married   40423  South  Relevant  Young parent  \n",
       "7     married   40423  South  Relevant  Young parent  \n",
       "8     married   40423  South  Relevant  Young parent  \n",
       "9     married   40423  South  Relevant  Young parent  \n",
       "15    married   40423  South  Relevant  Young parent  \n",
       "16    married   40423  South  Relevant  Young parent  \n",
       "17    married   40423  South  Relevant  Young parent  \n",
       "18    married   40423  South  Relevant  Young parent  "
      ]
     },
     "execution_count": 5,
     "metadata": {},
     "output_type": "execute_result"
    }
   ],
   "source": [
    "df.head(10)"
   ]
  },
  {
   "cell_type": "code",
   "execution_count": 6,
   "id": "547212ce",
   "metadata": {},
   "outputs": [],
   "source": [
    "#new dataframe to work with\n",
    "\n",
    "df_new =  df"
   ]
  },
  {
   "cell_type": "code",
   "execution_count": 7,
   "id": "5d1e6173",
   "metadata": {},
   "outputs": [
    {
     "data": {
      "text/plain": [
       "Index(['order_id', 'user_id', 'order_number', 'order_dow', 'order_hour_of_day',\n",
       "       'days_since_prior_order', 'product_id', 'add_to_cart_order',\n",
       "       'reordered', 'product_name', 'aisle_id', 'department_id', 'prices',\n",
       "       'price_range_loc', 'busiest day', 'busiest/slowest days',\n",
       "       'busiest_period_of_day', 'max_order', 'loyalty_flag', 'mean_prices',\n",
       "       'spending_flag', 'median_days', 'freq_cust', 'Gender', 'State', 'Age',\n",
       "       'Join date', 'Dependants', 'fam_status', 'Income', 'Region',\n",
       "       'Relevance', 'Parent_Status'],\n",
       "      dtype='object')"
      ]
     },
     "execution_count": 7,
     "metadata": {},
     "output_type": "execute_result"
    }
   ],
   "source": [
    "df_new.columns"
   ]
  },
  {
   "cell_type": "code",
   "execution_count": 8,
   "id": "3e37b48c",
   "metadata": {},
   "outputs": [],
   "source": [
    "#creating a list with if conditions to separate states in geographic regions\n",
    "\n",
    "result = []\n",
    "\n",
    "for value in df_new[\"State\"]:\n",
    "  if value in ('Maine','New Hampshire','Vermont','Massachusetts','Rhode Island','Connecticut','New York','Pennsylvania','New Jersey'):\n",
    "    result.append(\"Northeast\")\n",
    "  elif value in ('Wisconsin','Michigan','Illinois','Indiana','Ohio', 'North Dakota','South Dakota','Nebraska','Kansas','Minnesota','Iowa','Missouri'):\n",
    "   result.append(\"Midwest\")\n",
    "  elif value in ('Delaware','Maryland','District of Columbia','Virginia','West Virginia','North Carolina','South Carolina','Georgia','Florida','Kentucky','Tennessee','Mississippi','Alabama','Oklahoma','Texas','Arkansas','Louisiana'):\n",
    "   result.append(\"South\")\n",
    "  elif value in ('Idaho','Montana','Wyoming','Nevada','Utah','Colorado','Arizona','New Mexico','Alaska','Washington','Oregon','California','Hawaii'):\n",
    "   result.append(\"West\")"
   ]
  },
  {
   "cell_type": "code",
   "execution_count": 9,
   "id": "87cd6a78",
   "metadata": {},
   "outputs": [],
   "source": [
    "#creating a new column from the list\n",
    "\n",
    "df_new[\"Region\"] = result"
   ]
  },
  {
   "cell_type": "code",
   "execution_count": 10,
   "id": "9f430dac",
   "metadata": {},
   "outputs": [
    {
     "data": {
      "text/plain": [
       "South        8127783\n",
       "West         6257904\n",
       "Midwest      5710796\n",
       "Northeast    4314683\n",
       "Name: Region, dtype: int64"
      ]
     },
     "execution_count": 10,
     "metadata": {},
     "output_type": "execute_result"
    }
   ],
   "source": [
    "df_new[\"Region\"].value_counts(dropna = False)"
   ]
  },
  {
   "cell_type": "code",
   "execution_count": 11,
   "id": "3af0ae0c",
   "metadata": {},
   "outputs": [],
   "source": [
    "#creating a crosstab between region and spending_flag\n",
    "\n",
    "crosstab = pd.crosstab(df_new['Region'], df_new['spending_flag'], dropna = False)"
   ]
  },
  {
   "cell_type": "code",
   "execution_count": 12,
   "id": "d39f803e",
   "metadata": {},
   "outputs": [
    {
     "data": {
      "text/html": [
       "<div>\n",
       "<style scoped>\n",
       "    .dataframe tbody tr th:only-of-type {\n",
       "        vertical-align: middle;\n",
       "    }\n",
       "\n",
       "    .dataframe tbody tr th {\n",
       "        vertical-align: top;\n",
       "    }\n",
       "\n",
       "    .dataframe thead th {\n",
       "        text-align: right;\n",
       "    }\n",
       "</style>\n",
       "<table border=\"1\" class=\"dataframe\">\n",
       "  <thead>\n",
       "    <tr style=\"text-align: right;\">\n",
       "      <th>spending_flag</th>\n",
       "      <th>High spender</th>\n",
       "      <th>Low spender</th>\n",
       "    </tr>\n",
       "    <tr>\n",
       "      <th>Region</th>\n",
       "      <th></th>\n",
       "      <th></th>\n",
       "    </tr>\n",
       "  </thead>\n",
       "  <tbody>\n",
       "    <tr>\n",
       "      <th>Midwest</th>\n",
       "      <td>118248</td>\n",
       "      <td>5592548</td>\n",
       "    </tr>\n",
       "    <tr>\n",
       "      <th>Northeast</th>\n",
       "      <td>82029</td>\n",
       "      <td>4232654</td>\n",
       "    </tr>\n",
       "    <tr>\n",
       "      <th>South</th>\n",
       "      <td>157899</td>\n",
       "      <td>7969884</td>\n",
       "    </tr>\n",
       "    <tr>\n",
       "      <th>West</th>\n",
       "      <td>120826</td>\n",
       "      <td>6137078</td>\n",
       "    </tr>\n",
       "  </tbody>\n",
       "</table>\n",
       "</div>"
      ],
      "text/plain": [
       "spending_flag  High spender  Low spender\n",
       "Region                                  \n",
       "Midwest              118248      5592548\n",
       "Northeast             82029      4232654\n",
       "South                157899      7969884\n",
       "West                 120826      6137078"
      ]
     },
     "execution_count": 12,
     "metadata": {},
     "output_type": "execute_result"
    }
   ],
   "source": [
    "crosstab"
   ]
  },
  {
   "cell_type": "code",
   "execution_count": 13,
   "id": "91ab40a1",
   "metadata": {},
   "outputs": [],
   "source": [
    "# creating a list for a new column \"Relevance\"\n",
    "####what do you call an elephant that doesn't matter?\n",
    "\n",
    "result=[]\n",
    "\n",
    "for value in df_new[\"order_number\"]:\n",
    "  if value < 5:\n",
    "    result.append(\"Irrelephant\")\n",
    "  elif value >=5:\n",
    "    result.append(\"Relevant\")\n",
    "  else:\n",
    "    result.append(\"Problem\")"
   ]
  },
  {
   "cell_type": "code",
   "execution_count": 14,
   "id": "2dd9d47c",
   "metadata": {},
   "outputs": [],
   "source": [
    "# new column based on list\n",
    "\n",
    "df_new['Relevance'] = result"
   ]
  },
  {
   "cell_type": "code",
   "execution_count": 15,
   "id": "bafa525a",
   "metadata": {},
   "outputs": [
    {
     "data": {
      "text/plain": [
       "Relevant    24411166\n",
       "Name: Relevance, dtype: int64"
      ]
     },
     "execution_count": 15,
     "metadata": {},
     "output_type": "execute_result"
    }
   ],
   "source": [
    "df_new['Relevance'].value_counts(dropna = False) "
   ]
  },
  {
   "cell_type": "code",
   "execution_count": 16,
   "id": "33478d10",
   "metadata": {},
   "outputs": [
    {
     "data": {
      "text/plain": [
       "Index(['order_id', 'user_id', 'order_number', 'order_dow', 'order_hour_of_day',\n",
       "       'days_since_prior_order', 'product_id', 'add_to_cart_order',\n",
       "       'reordered', 'product_name', 'aisle_id', 'department_id', 'prices',\n",
       "       'price_range_loc', 'busiest day', 'busiest/slowest days',\n",
       "       'busiest_period_of_day', 'max_order', 'loyalty_flag', 'mean_prices',\n",
       "       'spending_flag', 'median_days', 'freq_cust', 'Gender', 'State', 'Age',\n",
       "       'Join date', 'Dependants', 'fam_status', 'Income', 'Region',\n",
       "       'Relevance', 'Parent_Status'],\n",
       "      dtype='object')"
      ]
     },
     "execution_count": 16,
     "metadata": {},
     "output_type": "execute_result"
    }
   ],
   "source": [
    "df_new.columns"
   ]
  },
  {
   "cell_type": "code",
   "execution_count": 17,
   "id": "a74af33c",
   "metadata": {},
   "outputs": [],
   "source": [
    "#creating new dataframe with only relevant customers\n",
    "\n",
    "df_rel = df_new[df_new[\"Relevance\"].str.contains(\"Irrelephant\")==False]"
   ]
  },
  {
   "cell_type": "code",
   "execution_count": 18,
   "id": "71d10a6f",
   "metadata": {},
   "outputs": [
    {
     "data": {
      "text/plain": [
       "Relevant    24411166\n",
       "Name: Relevance, dtype: int64"
      ]
     },
     "execution_count": 18,
     "metadata": {},
     "output_type": "execute_result"
    }
   ],
   "source": [
    "df_rel['Relevance'].value_counts(dropna = False)"
   ]
  },
  {
   "cell_type": "code",
   "execution_count": 19,
   "id": "33f07982",
   "metadata": {},
   "outputs": [],
   "source": [
    "# exporting new dataframe \"df_rel\" in pickle format\n",
    "\n",
    "df_rel.to_pickle(os.path.join(path,'02 Data', 'Prepared Data', 'relevant.pkl' ))"
   ]
  },
  {
   "cell_type": "code",
   "execution_count": 20,
   "id": "8ec707d0",
   "metadata": {},
   "outputs": [],
   "source": [
    "# creating a flag for 'Young Parent' based on age, dependants\n",
    "\n",
    "df_rel.loc[((df_rel['Age'] >= 18) & (df_rel['Age'] <= 35) & (df_rel['Dependants'] >= 1)), 'Parent_Status'] = 'Young parent'"
   ]
  },
  {
   "cell_type": "code",
   "execution_count": 21,
   "id": "d7439446",
   "metadata": {},
   "outputs": [],
   "source": [
    "# creating a flag for 'Single adult' based on age, dependants\n",
    "\n",
    "df_rel.loc[(df_rel['Dependants'] == 0), 'Parent_Status'] = 'Single adult'"
   ]
  },
  {
   "cell_type": "code",
   "execution_count": 22,
   "id": "a43fd8d7",
   "metadata": {},
   "outputs": [],
   "source": [
    "# creating a flag for 'Middle age parent' based on age, dependants\n",
    "\n",
    "df_rel.loc[(df_rel['Age'] >= 35) & (df_rel['Age'] <= 60) & (df_rel['Dependants'] >= 1), 'Parent_Status'] = 'Middle age parent'"
   ]
  },
  {
   "cell_type": "code",
   "execution_count": 23,
   "id": "d13f0952",
   "metadata": {},
   "outputs": [],
   "source": [
    "# creating a flag for 'Older parent' based on age, dependants\n",
    "\n",
    "df_rel.loc[(df_rel['Age'] >= 60) & (df_rel['Dependants'] >= 1), 'Parent_Status'] = 'Older parent'"
   ]
  },
  {
   "cell_type": "code",
   "execution_count": 24,
   "id": "bf98f25b",
   "metadata": {},
   "outputs": [
    {
     "data": {
      "text/plain": [
       "Middle age parent    7189031\n",
       "Older parent         6240470\n",
       "Single adult         6104110\n",
       "Young parent         4877555\n",
       "Name: Parent_Status, dtype: int64"
      ]
     },
     "execution_count": 24,
     "metadata": {},
     "output_type": "execute_result"
    }
   ],
   "source": [
    "# checking frequency of new column \"Parent Status\"\n",
    "\n",
    "df_rel[\"Parent_Status\"].value_counts(dropna = False)"
   ]
  },
  {
   "cell_type": "code",
   "execution_count": 25,
   "id": "d22a4a46",
   "metadata": {},
   "outputs": [
    {
     "data": {
      "text/plain": [
       "<AxesSubplot:>"
      ]
     },
     "execution_count": 25,
     "metadata": {},
     "output_type": "execute_result"
    },
    {
     "data": {
      "image/png": "[encoded data removed]",
      "text/plain": [
       "<Figure size 432x288 with 1 Axes>"
      ]
     },
     "metadata": {
      "needs_background": "light"
     },
     "output_type": "display_data"
    }
   ],
   "source": [
    "df_rel['Parent_Status'].value_counts().plot.bar()"
   ]
  },
  {
   "cell_type": "code",
   "execution_count": 26,
   "id": "e06e1a1f",
   "metadata": {},
   "outputs": [
    {
     "data": {
      "image/png": "[encoded data removed]",
      "text/plain": [
       "<Figure size 432x288 with 1 Axes>"
      ]
     },
     "metadata": {
      "needs_background": "light"
     },
     "output_type": "display_data"
    }
   ],
   "source": [
    "# creating a bar chart based on column \"Parent Status\" and saving it\n",
    "\n",
    "bar=df_rel['Parent_Status'].value_counts().plot.bar()\n",
    "plt.tight_layout()\n",
    "bar.figure.savefig(os.path.join(path, '04 Analysis','Visualizations', 'bar_parent_status.png'))"
   ]
  },
  {
   "cell_type": "code",
   "execution_count": 27,
   "id": "929c79bf",
   "metadata": {},
   "outputs": [
    {
     "data": {
      "text/html": [
       "<div>\n",
       "<style scoped>\n",
       "    .dataframe tbody tr th:only-of-type {\n",
       "        vertical-align: middle;\n",
       "    }\n",
       "\n",
       "    .dataframe tbody tr th {\n",
       "        vertical-align: top;\n",
       "    }\n",
       "\n",
       "    .dataframe thead tr th {\n",
       "        text-align: left;\n",
       "    }\n",
       "\n",
       "    .dataframe thead tr:last-of-type th {\n",
       "        text-align: right;\n",
       "    }\n",
       "</style>\n",
       "<table border=\"1\" class=\"dataframe\">\n",
       "  <thead>\n",
       "    <tr>\n",
       "      <th></th>\n",
       "      <th colspan=\"3\" halign=\"left\">prices</th>\n",
       "    </tr>\n",
       "    <tr>\n",
       "      <th></th>\n",
       "      <th>mean</th>\n",
       "      <th>min</th>\n",
       "      <th>max</th>\n",
       "    </tr>\n",
       "    <tr>\n",
       "      <th>Parent_Status</th>\n",
       "      <th></th>\n",
       "      <th></th>\n",
       "      <th></th>\n",
       "    </tr>\n",
       "  </thead>\n",
       "  <tbody>\n",
       "    <tr>\n",
       "      <th>Middle age parent</th>\n",
       "      <td>7.792145</td>\n",
       "      <td>1.0</td>\n",
       "      <td>25.0</td>\n",
       "    </tr>\n",
       "    <tr>\n",
       "      <th>Older parent</th>\n",
       "      <td>7.792533</td>\n",
       "      <td>1.0</td>\n",
       "      <td>25.0</td>\n",
       "    </tr>\n",
       "    <tr>\n",
       "      <th>Single adult</th>\n",
       "      <td>7.790987</td>\n",
       "      <td>1.0</td>\n",
       "      <td>25.0</td>\n",
       "    </tr>\n",
       "    <tr>\n",
       "      <th>Young parent</th>\n",
       "      <td>7.785727</td>\n",
       "      <td>1.0</td>\n",
       "      <td>25.0</td>\n",
       "    </tr>\n",
       "  </tbody>\n",
       "</table>\n",
       "</div>"
      ],
      "text/plain": [
       "                     prices           \n",
       "                       mean  min   max\n",
       "Parent_Status                         \n",
       "Middle age parent  7.792145  1.0  25.0\n",
       "Older parent       7.792533  1.0  25.0\n",
       "Single adult       7.790987  1.0  25.0\n",
       "Young parent       7.785727  1.0  25.0"
      ]
     },
     "execution_count": 27,
     "metadata": {},
     "output_type": "execute_result"
    }
   ],
   "source": [
    "# find mean, min, max for prices of \"Parent Status\"\n",
    "\n",
    "df_rel.groupby('Parent_Status').agg({'prices': ['mean', 'min', 'max']})"
   ]
  },
  {
   "cell_type": "code",
   "execution_count": 28,
   "id": "0e6906a3",
   "metadata": {},
   "outputs": [
    {
     "data": {
      "text/html": [
       "<div>\n",
       "<style scoped>\n",
       "    .dataframe tbody tr th:only-of-type {\n",
       "        vertical-align: middle;\n",
       "    }\n",
       "\n",
       "    .dataframe tbody tr th {\n",
       "        vertical-align: top;\n",
       "    }\n",
       "\n",
       "    .dataframe thead tr th {\n",
       "        text-align: left;\n",
       "    }\n",
       "\n",
       "    .dataframe thead tr:last-of-type th {\n",
       "        text-align: right;\n",
       "    }\n",
       "</style>\n",
       "<table border=\"1\" class=\"dataframe\">\n",
       "  <thead>\n",
       "    <tr>\n",
       "      <th></th>\n",
       "      <th colspan=\"3\" halign=\"left\">days_since_prior_order</th>\n",
       "    </tr>\n",
       "    <tr>\n",
       "      <th></th>\n",
       "      <th>mean</th>\n",
       "      <th>min</th>\n",
       "      <th>max</th>\n",
       "    </tr>\n",
       "    <tr>\n",
       "      <th>Parent_Status</th>\n",
       "      <th></th>\n",
       "      <th></th>\n",
       "      <th></th>\n",
       "    </tr>\n",
       "  </thead>\n",
       "  <tbody>\n",
       "    <tr>\n",
       "      <th>Middle age parent</th>\n",
       "      <td>10.098064</td>\n",
       "      <td>0.0</td>\n",
       "      <td>30.0</td>\n",
       "    </tr>\n",
       "    <tr>\n",
       "      <th>Older parent</th>\n",
       "      <td>10.092253</td>\n",
       "      <td>0.0</td>\n",
       "      <td>30.0</td>\n",
       "    </tr>\n",
       "    <tr>\n",
       "      <th>Single adult</th>\n",
       "      <td>10.063515</td>\n",
       "      <td>0.0</td>\n",
       "      <td>30.0</td>\n",
       "    </tr>\n",
       "    <tr>\n",
       "      <th>Young parent</th>\n",
       "      <td>10.083936</td>\n",
       "      <td>0.0</td>\n",
       "      <td>30.0</td>\n",
       "    </tr>\n",
       "  </tbody>\n",
       "</table>\n",
       "</div>"
      ],
      "text/plain": [
       "                  days_since_prior_order           \n",
       "                                    mean  min   max\n",
       "Parent_Status                                      \n",
       "Middle age parent              10.098064  0.0  30.0\n",
       "Older parent                   10.092253  0.0  30.0\n",
       "Single adult                   10.063515  0.0  30.0\n",
       "Young parent                   10.083936  0.0  30.0"
      ]
     },
     "execution_count": 28,
     "metadata": {},
     "output_type": "execute_result"
    }
   ],
   "source": [
    "# find mean, min, max for prices of \"days_since_prior_order\"\n",
    "\n",
    "df_rel.groupby('Parent_Status').agg({'days_since_prior_order': ['mean', 'min', 'max']})"
   ]
  },
  {
   "cell_type": "code",
   "execution_count": 29,
   "id": "6b2b4823",
   "metadata": {},
   "outputs": [],
   "source": [
    "# creating crosstab between \"Parent Status\" and \"Region\"\n",
    "\n",
    "crosstab_cust_region = pd.crosstab(df_rel['Parent_Status'], df_rel['Region'], dropna = False)"
   ]
  },
  {
   "cell_type": "code",
   "execution_count": 30,
   "id": "a5791fbe",
   "metadata": {},
   "outputs": [
    {
     "data": {
      "text/html": [
       "<div>\n",
       "<style scoped>\n",
       "    .dataframe tbody tr th:only-of-type {\n",
       "        vertical-align: middle;\n",
       "    }\n",
       "\n",
       "    .dataframe tbody tr th {\n",
       "        vertical-align: top;\n",
       "    }\n",
       "\n",
       "    .dataframe thead th {\n",
       "        text-align: right;\n",
       "    }\n",
       "</style>\n",
       "<table border=\"1\" class=\"dataframe\">\n",
       "  <thead>\n",
       "    <tr style=\"text-align: right;\">\n",
       "      <th>Region</th>\n",
       "      <th>Midwest</th>\n",
       "      <th>Northeast</th>\n",
       "      <th>South</th>\n",
       "      <th>West</th>\n",
       "    </tr>\n",
       "    <tr>\n",
       "      <th>Parent_Status</th>\n",
       "      <th></th>\n",
       "      <th></th>\n",
       "      <th></th>\n",
       "      <th></th>\n",
       "    </tr>\n",
       "  </thead>\n",
       "  <tbody>\n",
       "    <tr>\n",
       "      <th>Middle age parent</th>\n",
       "      <td>1699907</td>\n",
       "      <td>1279309</td>\n",
       "      <td>2370031</td>\n",
       "      <td>1839784</td>\n",
       "    </tr>\n",
       "    <tr>\n",
       "      <th>Older parent</th>\n",
       "      <td>1438626</td>\n",
       "      <td>1109161</td>\n",
       "      <td>2081141</td>\n",
       "      <td>1611542</td>\n",
       "    </tr>\n",
       "    <tr>\n",
       "      <th>Single adult</th>\n",
       "      <td>1436736</td>\n",
       "      <td>1064991</td>\n",
       "      <td>2038001</td>\n",
       "      <td>1564382</td>\n",
       "    </tr>\n",
       "    <tr>\n",
       "      <th>Young parent</th>\n",
       "      <td>1135527</td>\n",
       "      <td>861222</td>\n",
       "      <td>1638610</td>\n",
       "      <td>1242196</td>\n",
       "    </tr>\n",
       "  </tbody>\n",
       "</table>\n",
       "</div>"
      ],
      "text/plain": [
       "Region             Midwest  Northeast    South     West\n",
       "Parent_Status                                          \n",
       "Middle age parent  1699907    1279309  2370031  1839784\n",
       "Older parent       1438626    1109161  2081141  1611542\n",
       "Single adult       1436736    1064991  2038001  1564382\n",
       "Young parent       1135527     861222  1638610  1242196"
      ]
     },
     "execution_count": 30,
     "metadata": {},
     "output_type": "execute_result"
    }
   ],
   "source": [
    "crosstab_cust_region"
   ]
  },
  {
   "cell_type": "code",
   "execution_count": 31,
   "id": "1f5232ba",
   "metadata": {},
   "outputs": [],
   "source": [
    "crosstab_cust_region.to_clipboard()"
   ]
  },
  {
   "cell_type": "code",
   "execution_count": 32,
   "id": "73398297",
   "metadata": {},
   "outputs": [
    {
     "data": {
      "image/png": "[encoded data removed]",
      "text/plain": [
       "<Figure size 432x288 with 1 Axes>"
      ]
     },
     "metadata": {
      "needs_background": "light"
     },
     "output_type": "display_data"
    }
   ],
   "source": [
    "# plot and save bar char of crosstab\n",
    "\n",
    "cust_region_bar = crosstab_cust_region.plot.bar(stacked=True, color=[\"blue\", \"orange\", \"green\", \"purple\"])\n",
    "plt.legend(title=\"Customer/Region\")\n",
    "plt.tight_layout()\n",
    "plt.savefig(os.path.join(path, '04 Analysis','Visualizations', 'customer_regions.png'))"
   ]
  },
  {
   "cell_type": "code",
   "execution_count": 33,
   "id": "86cd57aa",
   "metadata": {},
   "outputs": [],
   "source": [
    "# creating crosstab\n",
    "\n",
    "crosstab_cust_region = pd.crosstab(df_rel['department_id'], df_rel['Parent_Status'], dropna = False)"
   ]
  },
  {
   "cell_type": "code",
   "execution_count": 34,
   "id": "a9f14239",
   "metadata": {},
   "outputs": [
    {
     "data": {
      "image/png": "[encoded data removed]",
      "text/plain": [
       "<Figure size 432x288 with 1 Axes>"
      ]
     },
     "metadata": {
      "needs_background": "light"
     },
     "output_type": "display_data"
    }
   ],
   "source": [
    "# plot and save bar chart of crosstab\n",
    "\n",
    "cust_region_bar = crosstab_cust_region.plot.bar()\n",
    "plt.legend(title=\"Customer/Departments\")\n",
    "plt.tight_layout()\n",
    "plt.savefig(os.path.join(path, '04 Analysis','Visualizations', 'customer_department.png'))"
   ]
  },
  {
   "cell_type": "code",
   "execution_count": 35,
   "id": "28418fd6",
   "metadata": {},
   "outputs": [],
   "source": [
    "# creating a crosstab\n",
    "\n",
    "crosstab_depend_depart = pd.crosstab(df_rel['department_id'], df_rel['Dependants'], dropna = False)"
   ]
  },
  {
   "cell_type": "code",
   "execution_count": 36,
   "id": "045bc5e0",
   "metadata": {},
   "outputs": [
    {
     "data": {
      "image/png": "[encoded data removed]",
      "text/plain": [
       "<Figure size 432x288 with 1 Axes>"
      ]
     },
     "metadata": {
      "needs_background": "light"
     },
     "output_type": "display_data"
    }
   ],
   "source": [
    "# plot and save bar chart of crosstab\n",
    "\n",
    "depend_depart = crosstab_depend_depart.plot.bar()\n",
    "plt.legend(title=\"Dependants\")\n",
    "plt.tight_layout()\n",
    "plt.savefig(os.path.join(path, '04 Analysis','Visualizations', 'dependants_department.png'))"
   ]
  },
  {
   "cell_type": "code",
   "execution_count": 37,
   "id": "711c6b87",
   "metadata": {},
   "outputs": [
    {
     "data": {
      "text/plain": [
       "Index(['order_id', 'user_id', 'order_number', 'order_dow', 'order_hour_of_day',\n",
       "       'days_since_prior_order', 'product_id', 'add_to_cart_order',\n",
       "       'reordered', 'product_name', 'aisle_id', 'department_id', 'prices',\n",
       "       'price_range_loc', 'busiest day', 'busiest/slowest days',\n",
       "       'busiest_period_of_day', 'max_order', 'loyalty_flag', 'mean_prices',\n",
       "       'spending_flag', 'median_days', 'freq_cust', 'Gender', 'State', 'Age',\n",
       "       'Join date', 'Dependants', 'fam_status', 'Income', 'Region',\n",
       "       'Relevance', 'Parent_Status'],\n",
       "      dtype='object')"
      ]
     },
     "execution_count": 37,
     "metadata": {},
     "output_type": "execute_result"
    }
   ],
   "source": [
    "df_rel.columns"
   ]
  },
  {
   "cell_type": "code",
   "execution_count": 38,
   "id": "6bcd2631",
   "metadata": {},
   "outputs": [
    {
     "data": {
      "text/html": [
       "<div>\n",
       "<style scoped>\n",
       "    .dataframe tbody tr th:only-of-type {\n",
       "        vertical-align: middle;\n",
       "    }\n",
       "\n",
       "    .dataframe tbody tr th {\n",
       "        vertical-align: top;\n",
       "    }\n",
       "\n",
       "    .dataframe thead th {\n",
       "        text-align: right;\n",
       "    }\n",
       "</style>\n",
       "<table border=\"1\" class=\"dataframe\">\n",
       "  <thead>\n",
       "    <tr style=\"text-align: right;\">\n",
       "      <th></th>\n",
       "      <th>order_id</th>\n",
       "      <th>user_id</th>\n",
       "      <th>order_number</th>\n",
       "      <th>order_dow</th>\n",
       "      <th>order_hour_of_day</th>\n",
       "      <th>days_since_prior_order</th>\n",
       "      <th>product_id</th>\n",
       "      <th>add_to_cart_order</th>\n",
       "      <th>reordered</th>\n",
       "      <th>product_name</th>\n",
       "      <th>aisle_id</th>\n",
       "      <th>department_id</th>\n",
       "      <th>prices</th>\n",
       "      <th>price_range_loc</th>\n",
       "      <th>busiest day</th>\n",
       "      <th>busiest/slowest days</th>\n",
       "      <th>busiest_period_of_day</th>\n",
       "      <th>max_order</th>\n",
       "      <th>loyalty_flag</th>\n",
       "      <th>mean_prices</th>\n",
       "      <th>spending_flag</th>\n",
       "      <th>median_days</th>\n",
       "      <th>freq_cust</th>\n",
       "      <th>Gender</th>\n",
       "      <th>State</th>\n",
       "      <th>Age</th>\n",
       "      <th>Join date</th>\n",
       "      <th>Dependants</th>\n",
       "      <th>fam_status</th>\n",
       "      <th>Income</th>\n",
       "      <th>Region</th>\n",
       "      <th>Relevance</th>\n",
       "      <th>Parent_Status</th>\n",
       "    </tr>\n",
       "  </thead>\n",
       "  <tbody>\n",
       "    <tr>\n",
       "      <th>4</th>\n",
       "      <td>431534</td>\n",
       "      <td>1</td>\n",
       "      <td>5</td>\n",
       "      <td>4</td>\n",
       "      <td>15</td>\n",
       "      <td>28.0</td>\n",
       "      <td>196</td>\n",
       "      <td>1</td>\n",
       "      <td>1</td>\n",
       "      <td>Soda</td>\n",
       "      <td>77</td>\n",
       "      <td>7</td>\n",
       "      <td>9.0</td>\n",
       "      <td>Mid-range product</td>\n",
       "      <td>Least busy</td>\n",
       "      <td>Slowest days</td>\n",
       "      <td>Most orders</td>\n",
       "      <td>10</td>\n",
       "      <td>New customer</td>\n",
       "      <td>6.367797</td>\n",
       "      <td>Low spender</td>\n",
       "      <td>20.5</td>\n",
       "      <td>Non-frequent customer</td>\n",
       "      <td>Female</td>\n",
       "      <td>Alabama</td>\n",
       "      <td>31</td>\n",
       "      <td>2/17/2019</td>\n",
       "      <td>3</td>\n",
       "      <td>married</td>\n",
       "      <td>40423</td>\n",
       "      <td>South</td>\n",
       "      <td>Relevant</td>\n",
       "      <td>Young parent</td>\n",
       "    </tr>\n",
       "    <tr>\n",
       "      <th>5</th>\n",
       "      <td>3367565</td>\n",
       "      <td>1</td>\n",
       "      <td>6</td>\n",
       "      <td>2</td>\n",
       "      <td>7</td>\n",
       "      <td>19.0</td>\n",
       "      <td>196</td>\n",
       "      <td>1</td>\n",
       "      <td>1</td>\n",
       "      <td>Soda</td>\n",
       "      <td>77</td>\n",
       "      <td>7</td>\n",
       "      <td>9.0</td>\n",
       "      <td>Mid-range product</td>\n",
       "      <td>Regularly busy</td>\n",
       "      <td>Regular days</td>\n",
       "      <td>Average orders</td>\n",
       "      <td>10</td>\n",
       "      <td>New customer</td>\n",
       "      <td>6.367797</td>\n",
       "      <td>Low spender</td>\n",
       "      <td>20.5</td>\n",
       "      <td>Non-frequent customer</td>\n",
       "      <td>Female</td>\n",
       "      <td>Alabama</td>\n",
       "      <td>31</td>\n",
       "      <td>2/17/2019</td>\n",
       "      <td>3</td>\n",
       "      <td>married</td>\n",
       "      <td>40423</td>\n",
       "      <td>South</td>\n",
       "      <td>Relevant</td>\n",
       "      <td>Young parent</td>\n",
       "    </tr>\n",
       "    <tr>\n",
       "      <th>6</th>\n",
       "      <td>550135</td>\n",
       "      <td>1</td>\n",
       "      <td>7</td>\n",
       "      <td>1</td>\n",
       "      <td>9</td>\n",
       "      <td>20.0</td>\n",
       "      <td>196</td>\n",
       "      <td>1</td>\n",
       "      <td>1</td>\n",
       "      <td>Soda</td>\n",
       "      <td>77</td>\n",
       "      <td>7</td>\n",
       "      <td>9.0</td>\n",
       "      <td>Mid-range product</td>\n",
       "      <td>Regularly busy</td>\n",
       "      <td>Busiest days</td>\n",
       "      <td>Most orders</td>\n",
       "      <td>10</td>\n",
       "      <td>New customer</td>\n",
       "      <td>6.367797</td>\n",
       "      <td>Low spender</td>\n",
       "      <td>20.5</td>\n",
       "      <td>Non-frequent customer</td>\n",
       "      <td>Female</td>\n",
       "      <td>Alabama</td>\n",
       "      <td>31</td>\n",
       "      <td>2/17/2019</td>\n",
       "      <td>3</td>\n",
       "      <td>married</td>\n",
       "      <td>40423</td>\n",
       "      <td>South</td>\n",
       "      <td>Relevant</td>\n",
       "      <td>Young parent</td>\n",
       "    </tr>\n",
       "    <tr>\n",
       "      <th>7</th>\n",
       "      <td>3108588</td>\n",
       "      <td>1</td>\n",
       "      <td>8</td>\n",
       "      <td>1</td>\n",
       "      <td>14</td>\n",
       "      <td>14.0</td>\n",
       "      <td>196</td>\n",
       "      <td>2</td>\n",
       "      <td>1</td>\n",
       "      <td>Soda</td>\n",
       "      <td>77</td>\n",
       "      <td>7</td>\n",
       "      <td>9.0</td>\n",
       "      <td>Mid-range product</td>\n",
       "      <td>Regularly busy</td>\n",
       "      <td>Busiest days</td>\n",
       "      <td>Most orders</td>\n",
       "      <td>10</td>\n",
       "      <td>New customer</td>\n",
       "      <td>6.367797</td>\n",
       "      <td>Low spender</td>\n",
       "      <td>20.5</td>\n",
       "      <td>Non-frequent customer</td>\n",
       "      <td>Female</td>\n",
       "      <td>Alabama</td>\n",
       "      <td>31</td>\n",
       "      <td>2/17/2019</td>\n",
       "      <td>3</td>\n",
       "      <td>married</td>\n",
       "      <td>40423</td>\n",
       "      <td>South</td>\n",
       "      <td>Relevant</td>\n",
       "      <td>Young parent</td>\n",
       "    </tr>\n",
       "    <tr>\n",
       "      <th>8</th>\n",
       "      <td>2295261</td>\n",
       "      <td>1</td>\n",
       "      <td>9</td>\n",
       "      <td>1</td>\n",
       "      <td>16</td>\n",
       "      <td>0.0</td>\n",
       "      <td>196</td>\n",
       "      <td>4</td>\n",
       "      <td>1</td>\n",
       "      <td>Soda</td>\n",
       "      <td>77</td>\n",
       "      <td>7</td>\n",
       "      <td>9.0</td>\n",
       "      <td>Mid-range product</td>\n",
       "      <td>Regularly busy</td>\n",
       "      <td>Busiest days</td>\n",
       "      <td>Most orders</td>\n",
       "      <td>10</td>\n",
       "      <td>New customer</td>\n",
       "      <td>6.367797</td>\n",
       "      <td>Low spender</td>\n",
       "      <td>20.5</td>\n",
       "      <td>Non-frequent customer</td>\n",
       "      <td>Female</td>\n",
       "      <td>Alabama</td>\n",
       "      <td>31</td>\n",
       "      <td>2/17/2019</td>\n",
       "      <td>3</td>\n",
       "      <td>married</td>\n",
       "      <td>40423</td>\n",
       "      <td>South</td>\n",
       "      <td>Relevant</td>\n",
       "      <td>Young parent</td>\n",
       "    </tr>\n",
       "  </tbody>\n",
       "</table>\n",
       "</div>"
      ],
      "text/plain": [
       "   order_id  user_id  order_number  order_dow  order_hour_of_day  \\\n",
       "4    431534        1             5          4                 15   \n",
       "5   3367565        1             6          2                  7   \n",
       "6    550135        1             7          1                  9   \n",
       "7   3108588        1             8          1                 14   \n",
       "8   2295261        1             9          1                 16   \n",
       "\n",
       "   days_since_prior_order  product_id  add_to_cart_order  reordered  \\\n",
       "4                    28.0         196                  1          1   \n",
       "5                    19.0         196                  1          1   \n",
       "6                    20.0         196                  1          1   \n",
       "7                    14.0         196                  2          1   \n",
       "8                     0.0         196                  4          1   \n",
       "\n",
       "  product_name  aisle_id  department_id  prices    price_range_loc  \\\n",
       "4         Soda        77              7     9.0  Mid-range product   \n",
       "5         Soda        77              7     9.0  Mid-range product   \n",
       "6         Soda        77              7     9.0  Mid-range product   \n",
       "7         Soda        77              7     9.0  Mid-range product   \n",
       "8         Soda        77              7     9.0  Mid-range product   \n",
       "\n",
       "      busiest day busiest/slowest days busiest_period_of_day  max_order  \\\n",
       "4      Least busy         Slowest days           Most orders         10   \n",
       "5  Regularly busy         Regular days        Average orders         10   \n",
       "6  Regularly busy         Busiest days           Most orders         10   \n",
       "7  Regularly busy         Busiest days           Most orders         10   \n",
       "8  Regularly busy         Busiest days           Most orders         10   \n",
       "\n",
       "   loyalty_flag  mean_prices spending_flag  median_days  \\\n",
       "4  New customer     6.367797   Low spender         20.5   \n",
       "5  New customer     6.367797   Low spender         20.5   \n",
       "6  New customer     6.367797   Low spender         20.5   \n",
       "7  New customer     6.367797   Low spender         20.5   \n",
       "8  New customer     6.367797   Low spender         20.5   \n",
       "\n",
       "               freq_cust  Gender    State  Age  Join date  Dependants  \\\n",
       "4  Non-frequent customer  Female  Alabama   31  2/17/2019           3   \n",
       "5  Non-frequent customer  Female  Alabama   31  2/17/2019           3   \n",
       "6  Non-frequent customer  Female  Alabama   31  2/17/2019           3   \n",
       "7  Non-frequent customer  Female  Alabama   31  2/17/2019           3   \n",
       "8  Non-frequent customer  Female  Alabama   31  2/17/2019           3   \n",
       "\n",
       "  fam_status  Income Region Relevance Parent_Status  \n",
       "4    married   40423  South  Relevant  Young parent  \n",
       "5    married   40423  South  Relevant  Young parent  \n",
       "6    married   40423  South  Relevant  Young parent  \n",
       "7    married   40423  South  Relevant  Young parent  \n",
       "8    married   40423  South  Relevant  Young parent  "
      ]
     },
     "execution_count": 38,
     "metadata": {},
     "output_type": "execute_result"
    }
   ],
   "source": [
    "df_rel.head()"
   ]
  },
  {
   "cell_type": "code",
   "execution_count": 39,
   "id": "1aa7bf8a",
   "metadata": {},
   "outputs": [
    {
     "data": {
      "text/plain": [
       "Most orders       15941595\n",
       "Average orders     7502621\n",
       "Fewest orders       966950\n",
       "Name: busiest_period_of_day, dtype: int64"
      ]
     },
     "execution_count": 39,
     "metadata": {},
     "output_type": "execute_result"
    }
   ],
   "source": [
    "df_rel[\"busiest_period_of_day\"].value_counts(dropna = False)"
   ]
  },
  {
   "cell_type": "code",
   "execution_count": 40,
   "id": "e5977272",
   "metadata": {},
   "outputs": [
    {
     "data": {
      "image/png": "[encoded data removed]",
      "text/plain": [
       "<Figure size 432x288 with 1 Axes>"
      ]
     },
     "metadata": {
      "needs_background": "light"
     },
     "output_type": "display_data"
    }
   ],
   "source": [
    "# creating a bar chart\n",
    "\n",
    "bar_hour=df_rel['order_hour_of_day'].value_counts().plot.bar()\n",
    "plt.tight_layout()\n",
    "bar.figure.savefig(os.path.join(path, '04 Analysis','Visualizations', 'bar_hour.png'))"
   ]
  },
  {
   "cell_type": "code",
   "execution_count": 41,
   "id": "51f3d0e8",
   "metadata": {},
   "outputs": [
    {
     "data": {
      "text/plain": [
       "Banana                                                            358668\n",
       "Bag of Organic Bananas                                            303632\n",
       "Organic Strawberries                                              201955\n",
       "Organic Baby Spinach                                              184749\n",
       "Organic Hass Avocado                                              169658\n",
       "                                                                   ...  \n",
       "Satin Care Dry Skin Shave Gel for Women 7 Oz Female Shave Prep         1\n",
       "Raisin Bran Crunch Apple & Strawberry Cereal                           1\n",
       "Light Glass Bottles                                                    1\n",
       "SmartBlend Lamb & Brown Rice Entree Wet Dog Food                       1\n",
       "Lemon Verbena Air Freshener                                            1\n",
       "Name: product_name, Length: 49400, dtype: int64"
      ]
     },
     "execution_count": 41,
     "metadata": {},
     "output_type": "execute_result"
    }
   ],
   "source": [
    "df_rel['product_name'].value_counts(dropna=False)"
   ]
  },
  {
   "cell_type": "code",
   "execution_count": 42,
   "id": "171c3651",
   "metadata": {},
   "outputs": [
    {
     "data": {
      "image/png": "[encoded data removed]",
      "text/plain": [
       "<Figure size 432x288 with 1 Axes>"
      ]
     },
     "metadata": {
      "needs_background": "light"
     },
     "output_type": "display_data"
    }
   ],
   "source": [
    "# creating a bar chart for the top 10 most bought products\n",
    "prodspop = df_rel['product_name'].value_counts(dropna=False).nlargest(10).plot.bar()\n",
    "plt.tight_layout()\n",
    "prodspop.figure.savefig(os.path.join(path, '04 Analysis','Visualizations', 'prodspop.png'))"
   ]
  },
  {
   "cell_type": "code",
   "execution_count": null,
   "id": "fd1c6020",
   "metadata": {},
   "outputs": [],
   "source": []
  }
 ],
 "metadata": {
  "kernelspec": {
   "display_name": "Python 3",
   "language": "python",
   "name": "python3"
  },
  "language_info": {
   "codemirror_mode": {
    "name": "ipython",
    "version": 3
   },
   "file_extension": ".py",
   "mimetype": "text/x-python",
   "name": "python",
   "nbconvert_exporter": "python",
   "pygments_lexer": "ipython3",
   "version": "3.8.8"
  }
 },
 "nbformat": 4,
 "nbformat_minor": 5
}
